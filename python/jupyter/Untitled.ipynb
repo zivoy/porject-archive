{
 "cells": [
  {
   "cell_type": "code",
   "execution_count": 4,
   "metadata": {},
   "outputs": [],
   "source": [
    "import requests\n",
    "from IPython.display import HTML"
   ]
  },
  {
   "cell_type": "code",
   "execution_count": 62,
   "metadata": {},
   "outputs": [
    {
     "data": {
      "text/plain": [
       "<Response [503]>"
      ]
     },
     "execution_count": 62,
     "metadata": {},
     "output_type": "execute_result"
    }
   ],
   "source": [
    "url = \"https://steamdb.info/upcoming/free/\"\n",
    "page = requests.get(url,headers={'user-agent': 'Mozilla/5.0 ()'})\n",
    "page"
   ]
  },
  {
   "cell_type": "code",
   "execution_count": 29,
   "metadata": {},
   "outputs": [],
   "source": [
    "with open(\"data.html\",'w', encoding=\"utf-8\") as a:\n",
    "    a.write(page.content.decode(\"utf-8\"))"
   ]
  },
  {
   "cell_type": "code",
   "execution_count": 47,
   "metadata": {},
   "outputs": [
    {
     "data": {
      "text/plain": [
       "'<!doctype html>\\n<html lang=\"en\" class=\"dark-mode\">\\n<head>\\n\\t<meta charset=\"UTF-8\">\\n\\t<meta name=\"viewport\" content=\"width=device-width, initial-scale=1.0\">\\n\\t<title>Just a moment... · SteamDB</title>\\n\\t<style>:root{--body-bg-color:#fff;--body-color:#24292e;--muted-bg-color:#f7f7f7;--muted-color:#6d7783;--border-color:#ddd;--border-color-2:#f5f5f5;--link-color:#0072c6;--link-color-hover:#00467a;--state-owned:#dff0d8;--state-wished:#d9edf7;--state-cart:#fcf8e3;--charts-band:rgba(155,39,176,0.2)}:root.dark-mode{--body-bg-color:#161920;--body-color:#acacac;--muted-bg-color:#1b2838;--border-color:#323f53;--border-color-2:#1f2733;--link-color:#0095ff;--link-color-hover:#0072c6;--state-owned:#030;--state-wished:#00174d;--state-cart:#5c4300;color-scheme:dark;scrollbar-color:var(--border-color) var(--body-bg-color)}html{overflow-y:scroll;box-sizing:border-box}*,:after,:before{box-sizing:inherit}body{font:14px/20px Roboto,-apple-system,Segoe UI,Helvetica Neue,Arial,sans-serif,Apple Color Emoji,Segoe UI Emoji,Segoe UI Symbol;color:var(--body-color);background-color:var(--body-bg-color)}body,html{height:100%}iframe{border:0;overflow:hidden;background-color:transparent}a{color:var(--link-color);text-decoration:none}a:hover{color:var(--link-color-hover);text-decoration:underline}hr{height:1px;margin:15px 0;overflow:hidden;background:var(--border-color);padding:0;border:0}blockquote{margin:0}img{vertical-align:middle}.container{width:960px;padding-left:10px;padding-right:10px;margin-right:auto;margin-left:auto}.row{margin-left:-20px}.row>[class*=span]{float:left;min-height:1px;margin-left:20px}.span12{width:940px}.span11{width:860px}.span10{width:780px}.span9{width:700px}.span8{width:620px}.span7{width:540px}.span6{width:460px}.span5{width:380px}.span4{width:300px}.span3{width:220px}.span2{width:140px}.span1{width:60px}@media (max-width:980px){.container{width:auto}.row{width:100%;margin-left:0}.row [class*=span],.row [class*=span]:first-child,[class*=span]{float:none;display:block;width:100%;margin-left:0}.span12{width:100%}}</style>\\n\\t<style>.octicon{display:inline-block;vertical-align:text-top;fill:currentColor}.extension-warning{z-index:1337;position:fixed;bottom:10px;right:10px;padding:10px;color:#86181d;background-color:#ffdce0;border:1px solid #1b1f23;border-radius:3px}.extension-warning .btn{margin-top:10px}noscript.extension-warning{text-align:center;max-width:240px}.avatar{display:inline-block;overflow:hidden;line-height:1;vertical-align:middle;border-radius:3px;background:#121212 url(data:image/svg+xml;base64,PHN2ZyB4bWxucz0iaHR0cDovL3d3dy53My5vcmcvMjAwMC9zdmciIHZpZXdCb3g9IjAgMCAxMjggMTI4Ij48cmVjdCBmaWxsPSIjMTIxMjEyIiB3aWR0aD0iMTAwJSIgaGVpZ2h0PSIxMDAlIi8+PHBhdGggZmlsbD0iI0ZGRiIgZmlsbC1ydWxlPSJldmVub2RkIiBkPSJNNjQgMzNjLTUuMi0uMi0xMC4yIDIuNC0xNCA2LTMuOCAzLjYtNSA3LjgtNSAxM2g3YzAtMy4xIDEuNy01LjggNC04IDIuMi0yLjEgNC45LTMuMSA4LTMgNS43LjMgOS43IDUuMyAxMCAxMSAuMyA2LTUuNCAxMC45LTggMTNsLTcgN3Y4aDh2LTVsNC00YzQuMy0zLjUgMTEuNC0xMC45IDExLTIwLS41LTkuNi04LjQtMTcuNi0xOC0xOHptLTUgNTVoOHY4aC04eiIvPjwvc3ZnPg==)}.pull-right{text-align:right;float:right;text-rendering:auto}.center{margin-left:auto;margin-right:auto}.center,.text-center,td.text-center{text-align:center}.text-left{text-align:left}.text-right,td.text-right{text-align:right}.i{font-style:italic}.b{font-weight:700}.inline{display:inline-block}.muted,.muted>a{color:var(--muted-color)}.css-truncate{display:inline-block;max-width:125px;overflow:hidden;text-overflow:ellipsis;vertical-align:top}.css-truncate,.nowrap{white-space:nowrap}.breakword{word-wrap:break-word}.css-truncate.expandable:hover{max-width:10000px!important}.clearfix:after,.clearfix:before,.container:after,.container:before,.row:after,.row:before{display:table;content:\"\";line-height:0}.clearfix:after,.container:after,.row:after{clear:both}#cf_alert_div{top:48px!important}#cf_alert_div table{max-width:940px;margin:0 auto;background-color:transparent}#cf_alert_div #caption{display:none}.loader{border-radius:50%;display:block;width:32px;height:32px;margin:0 auto 10px;border:4px solid rgba(0,0,0,.2);border-left-color:rgba(0,0,0,.9);transform:translateZ(0);animation:loader-spin .7s linear infinite}.dark-mode .loader,.loader-white{border-color:hsla(0,0%,100%,.2) hsla(0,0%,100%,.2) hsla(0,0%,100%,.2) hsla(0,0%,100%,.9)}@keyframes loader-spin{0%{transform:rotate(0deg)}to{transform:rotate(1turn)}}@media (max-width:980px){.hide-small{display:none}}</style>\\n\\t<meta name=\"theme-color\" content=\"#1B2838\">\\n\\t<link rel=\"icon\" type=\"image/svg+xml\" href=\"/static/logos/vector_prefers_schema.svg\">\\n\\t<style type=\"text/css\">body{margin:0;font-size:16px;display:flex;align-items:center;justify-content:center}h1{color:#66c0f4;font-size:24px;margin-bottom:30px}.bubbles{background-color:#66c0f4;width:20px;height:20px;margin:5px;border-radius:100%;animation:bubbles .6s ease-in-out .07s infinite;animation-fill-mode:both;display:inline-block}@keyframes bubbles{0%{transform:translateY(0)}50%{transform:translateY(-10px)}to{transform:translateY(0)}}</style>\\n<script type=\"text/javascript\">\\n  //<![CDATA[\\n  (function(){\\n    \\n    var a = function() {try{return !!window.addEventListener} catch(e) {return !1} },\\n    b = function(b, c) {a() ? document.addEventListener(\"DOMContentLoaded\", b, c) : document.attachEvent(\"onreadystatechange\", b)};\\n    b(function(){\\n      var cookiesEnabled=(navigator.cookieEnabled)? true : false;\\n      var cookieSupportInfix=cookiesEnabled?\\'/nocookie\\':\\'/cookie\\';\\n      var a = document.getElementById(\\'cf-content\\');a.style.display = \\'block\\';\\n      var isIE = /(MSIE|Trident\\\\/|Edge\\\\/)/i.test(window.navigator.userAgent);\\n      var trkjs = isIE ? new Image() : document.createElement(\\'img\\');\\n      trkjs.setAttribute(\"src\", \"/cdn-cgi/images/trace/jschal/js\"+cookieSupportInfix+\"/transparent.gif?ray=5a6123425e0ff99d\");\\n      trkjs.id = \"trk_jschal_js\";\\n      trkjs.setAttribute(\"alt\", \"\");\\n      document.body.appendChild(trkjs);\\n      \\n      setTimeout(function(){\\n        var s,t,o,p, b,r,e,a,k,i,n,g,f, PkbQRSk={\"NUQwIzUXXv\":+((!+[]+(!![])+!![]+!![]+!![]+!![]+!![]+[])+(!+[]+(!![])+!![]+!![]+!![]+!![]+!![]+!![]+!![])+(!+[]+(!![])+!![]+!![]+!![]+!![]+!![])+(!+[]-(!![]))+(!+[]-(!![]))+(!+[]+(!![])+!![])+(!+[]+(!![])+!![]+!![])+(!+[]+(!![])+!![])+(!+[]+(!![])+!![]+!![]+!![]+!![]+!![]))/+((!+[]+(!![])-[]+[])+(!+[]+(!![])+!![]+!![]+!![]+!![]+!![]+!![]+!![])+(!+[]+(!![])+!![]+!![]+!![]+!![])+(+!![])+(!+[]+(!![])+!![]+!![]+!![])+(!+[]+(!![])+!![]+!![]+!![]+!![])+(!+[]+(!![])+!![]+!![])+(!+[]+(!![])+!![]+!![]+!![]+!![])+(!+[]+(!![])+!![]+!![]+!![]+!![]+!![]+!![]))};\\n        g = String.fromCharCode;\\n        o = \"ABCDEFGHIJKLMNOPQRSTUVWXYZabcdefghijklmnopqrstuvwxyz0123456789+/=\";\\n        e = function(s) {\\n          s += \"==\".slice(2 - (s.length & 3));\\n          var bm, r = \"\", r1, r2, i = 0, r3 = \\'<span class=\"cf-error-code\">1020</span>\\';\\n          for (; i < s.length;) {\\n              bm = o.indexOf(s.charAt(i++)) << 18 | o.indexOf(s.charAt(i++)) << 12\\n                      | (r1 = o.indexOf(s.charAt(i++))) << 6 | (r2 = o.indexOf(s.charAt(i++)));\\n              r += r1 === 64 ? g(bm >> 16 & 255)\\n                      : r2 === 64 ? g(bm >> 16 & 255, bm >> 8 & 255)\\n                      : g(bm >> 16 & 255, bm >> 8 & 255, bm & 255);\\n          }\\n          return r;\\n        };\\n        t = document.createElement(\\'div\\');\\n        t.innerHTML=\"<a href=\\'/\\'>x</a>\";\\n        t = t.firstChild.href;r = (setInterval(function(){}, 100),t.match(/https?:\\\\/\\\\//)[0]);\\n        t = t.substr(r.length); t = t.substr(0,t.length-1); k = \\'QgQJcnue\\';\\n        a = document.getElementById(\\'jschl+answer\\'.replace(\\'+\\', \\'-\\'));\\n        f = document.getElementById(\\'challenge-form\\'); a.value = \\'\\';\\n        ;PkbQRSk.NUQwIzUXXv*=+((!+[]+(!![])+!![]+!![]+!![]+!![]+!![]+!![]+[])+(!+[]+(!![])+!![]+!![]+!![])+(!+[]+(!![])+!![]+!![]+!![]+!![]+!![]+!![])+(!+[]+(!![])+!![]+!![]+!![])+(!+[]+(!![])+!![]+!![]+!![]+!![]+!![]+!![]+!![])+(!+[]+(!![])+!![]+!![]+!![]+!![]+!![]+!![]+!![])+(!+[]+(!![])+!![]+!![]+!![])+(!+[]-(!![]))+(!+[]+(!![])+!![]))/+((+!![]+[])+(+!![])+(!+[]+(!![])+!![]+!![])+(!+[]+(!![])+!![]+!![]+!![])+(!+[]-(!![]))+(!+[]+(!![])+!![]+!![]+!![]+!![])+(!+[]+(!![])+!![]+!![]+!![]+!![]+!![])+(!+[]+(!![])+!![]+!![]+!![]+!![])+(+!![]));PkbQRSk.NUQwIzUXXv-=+((!+[]+(!![])+!![]+!![]+!![]+!![]+!![]+!![]+!![]+[])+(!+[]+(!![])-[])+(!+[]-(!![]))+(!+[]+(!![])+!![]+!![])+(+!![])+(!+[]+(!![])+!![]+!![]+!![]+!![]+!![]+!![]+!![])+(!+[]+(!![])+!![]+!![]+!![]+!![]+!![]+!![])+(!+[]+(!![])-[])+(!+[]+(!![])+!![]))/+((!+[]+(!![])+!![]+!![]+!![]+!![]+!![]+!![]+!![]+[])+(!+[]+(!![])-[])+(!+[]+(!![])+!![])+(!+[]+(!![])+!![]+!![]+!![])+(!+[]-(!![]))+(!+[]+(!![])+!![]+!![]+!![]+!![]+!![]+!![]+!![])+(!+[]+(!![])+!![]+!![]+!![]+!![])+(!+[]+(!![])+!![]+!![]+!![]+!![]+!![]+!![]+!![])+(!+[]+(!![])+!![]));PkbQRSk.NUQwIzUXXv*=+((!+[]+(!![])+!![]+!![]+!![]+!![]+!![]+!![]+[])+(!+[]+(!![])+!![])+(!+[]+(!![])+!![]+!![]+!![]+!![]+!![]+!![])+(!+[]-(!![]))+(!+[]+(!![])+!![]+!![])+(+!![])+(!+[]+(!![])+!![]+!![]+!![]+!![])+(!+[]+(!![])+!![]+!![])+(+!![]))/+((+!![]+[])+(!+[]+(!![])-[])+(!+[]+(!![])-[])+(!+[]-(!![]))+(!+[]+(!![])-[])+(!+[]+(!![])-[])+(!+[]+(!![])+!![]+!![]+!![]+!![])+(!+[]+(!![])+!![])+(!+[]+(!![])+!![]));PkbQRSk.NUQwIzUXXv+=+((!+[]+(!![])+!![]+!![]+!![]+!![]+!![]+!![]+!![]+[])+(!+[]+(!![])-[])+(!+[]-(!![]))+(!+[]+(!![])+!![]+!![])+(+!![])+(!+[]+(!![])+!![]+!![]+!![]+!![]+!![]+!![]+!![])+(!+[]+(!![])+!![]+!![]+!![]+!![]+!![]+!![])+(!+[]+(!![])-[])+(!+[]+(!![])+!![]))/+((!+[]+(!![])+!![]+!![]+!![]+!![]+[])+(!+[]+(!![])+!![])+(!+[]+(!![])+!![])+(!+[]+(!![])+!![]+!![]+!![])+(!+[]+(!![])+!![]+!![])+(!+[]+(!![])+!![]+!![]+!![])+(!+[]+(!![])+!![]+!![]+!![]+!![]+!![])+(!+[]+(!![])+!![]+!![]+!![]+!![]+!![]+!![])+(!+[]+(!![])-[]));PkbQRSk.NUQwIzUXXv-=+((!+[]+(!![])+!![]+!![]+!![]+!![]+!![]+!![]+[])+(!+[]+(!![])+!![]+!![]+!![])+(!+[]+(!![])+!![]+!![]+!![]+!![]+!![]+!![])+(!+[]+(!![])+!![]+!![]+!![])+(!+[]+(!![])+!![]+!![]+!![]+!![]+!![]+!![]+!![])+(!+[]+(!![])+!![]+!![]+!![]+!![]+!![]+!![]+!![])+(!+[]+(!![])+!![]+!![]+!![])+(!+[]-(!![]))+(!+[]+(!![])+!![]))/+((!+[]+(!![])+!![]+!![]+[])+(!+[]+(!![])-[])+(!+[]+(!![])+!![]+!![])+(!+[]+(!![])+!![]+!![]+!![]+!![]+!![])+(!+[]+(!![])+!![]+!![]+!![]+!![])+(!+[]+(!![])+!![])+(!+[]+(!![])+!![]+!![]+!![]+!![]+!![]+!![])+(+!![])+(!+[]+(!![])+!![]+!![]+!![]+!![]+!![]));PkbQRSk.NUQwIzUXXv+=+((!+[]+(!![])+!![]+!![]+!![]+!![]+!![]+!![]+[])+(+!![])+(!+[]+(!![])+!![]+!![]+!![]+!![]+!![])+(!+[]+(!![])+!![]+!![]+!![])+(!+[]-(!![]))+(!+[]+(!![])+!![]+!![])+(!+[]+(!![])-[])+(!+[]+(!![])+!![]+!![])+(!+[]+(!![])+!![]))/+((!+[]+(!![])+!![]+!![]+!![]+!![]+[])+(!+[]+(!![])+!![]+!![]+!![]+!![]+!![])+(!+[]+(!![])+!![]+!![]+!![]+!![]+!![]+!![])+(!+[]+(!![])+!![])+(!+[]-(!![]))+(!+[]+(!![])+!![])+(!+[]+(!![])+!![]+!![]+!![]+!![]+!![]+!![]+!![])+(!+[]+(!![])+!![])+(!+[]+(!![])+!![]));PkbQRSk.NUQwIzUXXv+=+((!+[]+(!![])+!![]+!![]+!![]+!![]+!![]+!![]+[])+(!+[]+(!![])+!![])+(!+[]+(!![])+!![]+!![]+!![]+!![]+!![]+!![])+(!+[]-(!![]))+(!+[]+(!![])+!![]+!![])+(+!![])+(!+[]+(!![])+!![]+!![]+!![]+!![])+(!+[]+(!![])+!![]+!![])+(!+[]+(!![])+!![]+!![]+!![]+!![]+!![]))/+((!+[]+(!![])+!![]+[])+(!+[]+(!![])+!![])+(!+[]+(!![])+!![]+!![]+!![]+!![]+!![])+(!+[]+(!![])+!![]+!![])+(!+[]-(!![]))+(!+[]+(!![])+!![]+!![]+!![]+!![]+!![]+!![])+(!+[]-(!![]))+(!+[]+(!![])+!![]+!![]+!![]+!![]+!![]+!![])+(!+[]-(!![])));PkbQRSk.NUQwIzUXXv+=+((!+[]+(!![])+!![]+!![]+!![]+!![]+!![]+[])+(!+[]+(!![])+!![]+!![]+!![]+!![]+!![]+!![]+!![])+(!+[]+(!![])+!![]+!![]+!![]+!![]+!![])+(!+[]-(!![]))+(!+[]-(!![]))+(!+[]+(!![])+!![])+(!+[]+(!![])+!![]+!![])+(!+[]+(!![])+!![])+(!+[]+(!![])+!![]+!![]+!![]+!![]+!![]))/+((!+[]+(!![])+!![]+!![]+!![]+!![]+!![]+!![]+[])+(!+[]+(!![])+!![]+!![])+(!+[]+(!![])-[])+(!+[]+(!![])+!![]+!![]+!![]+!![]+!![])+(!+[]+(!![])+!![]+!![]+!![]+!![]+!![])+(!+[]+(!![])+!![]+!![]+!![])+(!+[]+(!![])+!![]+!![])+(!+[]+(!![])+!![])+(!+[]+(!![])+!![]+!![]+!![]+!![]+!![]+!![]));PkbQRSk.NUQwIzUXXv+=+((!+[]+(!![])+!![]+!![]+!![]+!![]+!![]+!![]+[])+(!+[]+(!![])+!![])+(!+[]+(!![])+!![]+!![]+!![]+!![]+!![]+!![])+(!+[]-(!![]))+(!+[]+(!![])+!![]+!![])+(+!![])+(!+[]+(!![])+!![]+!![]+!![]+!![])+(!+[]+(!![])+!![]+!![])+(+!![]))/+((!+[]+(!![])+!![]+!![]+!![]+!![]+!![]+!![]+[])+(!+[]-(!![]))+(!+[]+(!![])+!![]+!![]+!![]+!![]+!![])+(!+[]+(!![])+!![]+!![]+!![])+(!+[]+(!![])+!![])+(!+[]+(!![])+!![]+!![])+(!+[]+(!![])+!![])+(!+[]+(!![])+!![]+!![])+(!+[]-(!![])));PkbQRSk.NUQwIzUXXv*=+((!+[]+(!![])+!![]+!![]+!![]+!![]+!![]+!![]+!![]+[])+(!+[]+(!![])+!![]+!![])+(+!![])+(!+[]-(!![]))+(!+[]+(!![])+!![]+!![]+!![]+!![]+!![]+!![])+(!+[]+(!![])+!![])+(!+[]+(!![])+!![]+!![]+!![]+!![]+!![]+!![]+!![])+(!+[]+(!![])+!![]+!![]+!![]+!![]+!![]+!![])+(+!![]))/(+(+((!+[]+(!![])+!![]+!![]+!![]+!![]+!![]+!![]+!![]+[])+(!+[]+(!![])+!![]+!![]+!![])+(+!![])+(+!![])+(!+[]+(!![])+!![]+!![]+!![]+!![]+!![]+!![]+!![])+(!+[]-(!![]))+(!+[]+(!![])+!![]+!![]+!![]+!![]+!![]+!![])+(!+[]+(!![])+!![]+!![]+!![]+!![])+(!+[]+(!![])+!![]+!![])))+(function(p){return eval((true+\"\")[0]+\".ch\"+(false+\"\")[1]+(true+\"\")[1]+Function(\"return escape\")()((\"\")[\"italics\"]())[2]+\"o\"+(undefined+\"\")[2]+(true+\"\")[3]+\"A\"+(true+\"\")[0]+\"(\"+p+\")\")}(+((!+[]+(!![])-[]+[])))));PkbQRSk.NUQwIzUXXv-=+((!+[]+(!![])+!![]+!![]+!![]+!![]+!![]+[])+(!+[]+(!![])+!![]+!![]+!![]+!![]+!![]+!![]+!![])+(!+[]+(!![])+!![]+!![]+!![]+!![]+!![])+(!+[]-(!![]))+(!+[]-(!![]))+(!+[]+(!![])+!![])+(!+[]+(!![])+!![]+!![])+(!+[]+(!![])+!![])+(!+[]+(!![])+!![]+!![]+!![]+!![]+!![]))/+((+!![]+[])+(!+[]+(!![])+!![]+!![])+(!+[]+(!![])+!![]+!![]+!![]+!![]+!![]+!![])+(!+[]+(!![])+!![]+!![]+!![]+!![]+!![]+!![]+!![])+(+!![])+(!+[]+(!![])+!![]+!![]+!![]+!![]+!![]+!![])+(!+[]+(!![])-[])+(+!![])+(!+[]+(!![])+!![]+!![]+!![]+!![]));PkbQRSk.NUQwIzUXXv+=+((!+[]+(!![])+!![]+!![]+!![]+!![]+!![]+!![]+[])+(!+[]+(!![])+!![])+(!+[]+(!![])+!![]+!![]+!![]+!![]+!![]+!![])+(!+[]-(!![]))+(!+[]+(!![])+!![]+!![])+(+!![])+(!+[]+(!![])+!![]+!![]+!![]+!![])+(!+[]+(!![])+!![]+!![])+(+!![]))/+((!+[]+(!![])+!![]+[])+(!+[]+(!![])+!![]+!![]+!![]+!![]+!![]+!![])+(!+[]+(!![])+!![]+!![]+!![]+!![]+!![]+!![])+(!+[]+(!![])+!![])+(!+[]+(!![])+!![]+!![]+!![]+!![]+!![])+(!+[]+(!![])+!![]+!![]+!![]+!![]+!![])+(!+[]-(!![]))+(!+[]+(!![])+!![]+!![]+!![]+!![])+(!+[]-(!![])));PkbQRSk.NUQwIzUXXv*=+((!+[]+(!![])+!![]+!![]+!![]+!![]+!![]+!![]+[])+(!+[]+(!![])+!![])+(!+[]+(!![])+!![]+!![]+!![]+!![]+!![]+!![])+(!+[]-(!![]))+(!+[]+(!![])+!![]+!![])+(+!![])+(!+[]+(!![])+!![]+!![]+!![]+!![])+(!+[]+(!![])+!![]+!![])+(+!![]))/+((+!![]+[])+(+!![])+(!+[]+(!![])+!![])+(!+[]+(!![])+!![]+!![]+!![]+!![]+!![]+!![]+!![])+(!+[]+(!![])+!![])+(!+[]-(!![]))+(!+[]+(!![])-[])+(!+[]+(!![])+!![])+(!+[]+(!![])+!![]+!![]));PkbQRSk.NUQwIzUXXv*=+((!+[]+(!![])+!![]+!![]+!![]+!![]+!![]+[])+(!+[]+(!![])+!![]+!![]+!![]+!![]+!![]+!![]+!![])+(!+[]+(!![])+!![]+!![]+!![]+!![]+!![])+(!+[]-(!![]))+(!+[]-(!![]))+(!+[]+(!![])+!![])+(!+[]+(!![])+!![]+!![])+(!+[]+(!![])+!![])+(!+[]+(!![])+!![]+!![]+!![]+!![]+!![]))/+((!+[]+(!![])+!![]+[])+(+!![])+(!+[]+(!![])+!![]+!![]+!![]+!![]+!![]+!![]+!![])+(!+[]+(!![])+!![]+!![])+(!+[]+(!![])+!![])+(!+[]+(!![])+!![])+(!+[]+(!![])+!![]+!![]+!![]+!![]+!![])+(!+[]+(!![])+!![]+!![]+!![]+!![]+!![])+(!+[]+(!![])+!![]+!![]+!![]+!![]+!![]));PkbQRSk.NUQwIzUXXv+=+((!+[]+(!![])+!![]+!![]+!![]+!![]+!![]+!![]+[])+(!+[]+(!![])+!![])+(!+[]+(!![])+!![]+!![]+!![]+!![]+!![]+!![])+(!+[]-(!![]))+(!+[]+(!![])+!![]+!![])+(+!![])+(!+[]+(!![])+!![]+!![]+!![]+!![])+(!+[]+(!![])+!![]+!![])+(+!![]))/+((!+[]+(!![])+!![]+!![]+!![]+!![]+[])+(!+[]-(!![]))+(!+[]+(!![])+!![]+!![])+(!+[]-(!![]))+(!+[]+(!![])-[])+(!+[]+(!![])+!![]+!![])+(!+[]+(!![])+!![]+!![]+!![]+!![]+!![]+!![]+!![])+(!+[]+(!![])+!![]+!![]+!![]+!![]+!![]+!![]+!![])+(!+[]+(!![])+!![]));PkbQRSk.NUQwIzUXXv-=+((!+[]+(!![])+!![]+!![]+!![]+!![]+!![]+!![]+[])+(!+[]+(!![])+!![])+(!+[]+(!![])+!![]+!![]+!![]+!![]+!![]+!![])+(!+[]-(!![]))+(!+[]+(!![])+!![]+!![])+(+!![])+(!+[]+(!![])+!![]+!![]+!![]+!![])+(!+[]+(!![])+!![]+!![])+(!+[]+(!![])+!![]+!![]+!![]+!![]+!![]))/+((!+[]+(!![])+!![]+!![]+!![]+!![]+!![]+!![]+[])+(!+[]-(!![]))+(!+[]+(!![])+!![])+(!+[]+(!![])+!![]+!![]+!![]+!![]+!![])+(!+[]+(!![])+!![]+!![]+!![]+!![]+!![]+!![])+(!+[]+(!![])-[])+(!+[]+(!![])-[])+(!+[]+(!![])+!![]+!![]+!![]+!![]+!![]+!![]+!![])+(!+[]+(!![])+!![]+!![]+!![]));k+=+((!+[]+(!![])+!![]+!![]+[]));PkbQRSk.NUQwIzUXXv-=function(p){var p = eval(eval(e(\"ZG9jdW1l\")+(undefined+\"\")[1]+(true+\"\")[0]+(+(+!+[]+[+!+[]]+(!![]+[])[!+[]+!+[]+!+[]]+[!+[]+!+[]]+[+[]])+[])[+!+[]]+g(103)+(true+\"\")[3]+(true+\"\")[0]+\"Element\"+g(66)+(NaN+[Infinity])[10]+\"Id(\"+g(107)+\").\"+e(\"aW5uZXJIVE1M\"))); return +(p)}();PkbQRSk.NUQwIzUXXv-=+((!+[]+(!![])+!![]+!![]+!![]+!![]+!![]+[])+(!+[]+(!![])+!![]+!![]+!![]+!![]+!![]+!![]+!![])+(!+[]+(!![])+!![]+!![]+!![]+!![]+!![])+(!+[]-(!![]))+(!+[]-(!![]))+(!+[]+(!![])+!![])+(!+[]+(!![])+!![]+!![])+(!+[]+(!![])+!![])+(!+[]+(!![])+!![]+!![]+!![]+!![]+!![]))/+((!+[]+(!![])-[]+[])+(!+[]+(!![])+!![]+!![]+!![]+!![]+!![]+!![]+!![])+(!+[]+(!![])+!![]+!![])+(!+[]+(!![])+!![])+(!+[]+(!![])+!![])+(!+[]+(!![])+!![])+(!+[]+(!![])-[])+(!+[]+(!![])+!![]+!![]+!![])+(!+[]+(!![])+!![]+!![]+!![]+!![]+!![]+!![]+!![]));PkbQRSk.NUQwIzUXXv-=+((!+[]+(!![])+!![]+!![]+!![]+!![]+!![]+!![]+[])+(+!![])+(!+[]+(!![])+!![]+!![]+!![]+!![]+!![])+(!+[]+(!![])+!![]+!![]+!![])+(!+[]-(!![]))+(!+[]+(!![])+!![]+!![])+(!+[]+(!![])-[])+(!+[]+(!![])+!![]+!![])+(!+[]+(!![])+!![]))/+((!+[]+(!![])+!![]+!![]+!![]+!![]+!![]+!![]+[])+(!+[]+(!![])+!![]+!![]+!![]+!![]+!![]+!![])+(!+[]+(!![])-[])+(!+[]+(!![])+!![]+!![])+(!+[]+(!![])+!![]+!![]+!![]+!![])+(!+[]+(!![])+!![])+(!+[]+(!![])+!![]+!![]+!![]+!![])+(!+[]+(!![])-[])+(!+[]+(!![])+!![]+!![]));a.value = (+PkbQRSk.NUQwIzUXXv).toFixed(10); \\'; 121\\'\\n        f.action += location.hash;\\n        return f.submit();\\n      },4000); /*eoc*/\\n      \\n    }, false);\\n  })();\\n  //]]>\\n</script>\\n\\n</head>\\n<body>\\n\\t<div class=\"container text-center\"><div class=\"cf-browser-verification cf-im-under-attack\">\\n  <noscript>\\n    <h1 data-translate=\"turn_on_js\" style=\"color:#bd2426;\">Please turn JavaScript on and reload the page.</h1>\\n  </noscript>\\n  <div id=\"cf-content\" style=\"display:none\">\\n    \\n    <div id=\"cf-bubbles\">\\n      <div class=\"bubbles\"></div>\\n      <div class=\"bubbles\"></div>\\n      <div class=\"bubbles\"></div>\\n    </div>\\n    <h1><span data-translate=\"checking_browser\">Checking your browser before accessing</span> steamdb.info.</h1>\\n    \\n    <div id=\"no-cookie-warning\" data-translate=\"turn_on_cookies\" style=\"display:none\">\\n      <p data-translate=\"turn_on_cookies\" style=\"color:#bd2426;\">Please enable Cookies and reload the page.</p>\\n    </div>\\n    <p data-translate=\"process_is_automatic\">This process is automatic. Your browser will redirect to your requested content shortly.</p>\\n    <p data-translate=\"allow_5_secs\">Please allow up to 5 seconds&hellip;</p>\\n  </div>\\n   \\n  <form class=\"challenge-form\" id=\"challenge-form\" action=\"/upcoming/free/?__cf_chl_jschl_tk__=ab65a18c1f064794a8a6470a9cb59908749d278e-1592610473-0-AaHrIpv3Do6Y1EnJelBDgKDY3dTsdU84puVl_YvqYR7Bt-B_9D11QRdgV9kyp3kMDkTBJe0p4w6lGk15b4-B-iO7e-XUMufPbUI5g7KtKAdjFby8_g7nHnZg8pHKzr219nttlJ0nArEP9KVKEE4DHJAmaxN4sG80_5BNqJLilTgAyJMLKsOv-1tPH07C_XEv_q3HWuP5j2cAqMT67EaJozFLQZ6aJmYI8HFfWJQBzAarTppXrAbIK2ZP739-dWggk-vw2_3JsB5W3oijrwJ-91DjKZb4Sq8jCwtRyU0Keinb\" method=\"POST\" enctype=\"application/x-www-form-urlencoded\">\\n    <input type=\"hidden\" name=\"r\" value=\"738c7e9cd886a3a91896ca6ef297e5e18110b888-1592610473-0-AbFB8LGU9I9c2NDJFG8DR4eBAipM9NCPRVOHKXqS3P+4kX9ykafEfOrJvHukLGeVHD59V/w0nzp2xbxPDr2dlEOeN6bPBUEaZeQZZS7+0zlUdXnq113EidPIr8H7zYciJ2VXqebuegzCvfObjhNTZjUlLxm5DpcAEJMCfn0jmdly3f1oNh3hufdd9UhYa1AWq0jEn8yBrIQagrouTTyAGWcqo7ljcRXNnAmbe4M4cxiv5YTSjFmkgUet2BofA2wbp0AY1AyBi0QlHl5p7HpxOcM6p+pcBhDxXWNSPqs4DAuHo52lz+ltdgTUJFsRTlILqqiKHAcqYzc2TNhprpzL0/8+2LhqJ8RISlFZxYfP3/F+WtXB0CYhmkeDvM5ofHZ8iwYKUQ+RA7ZORDdKxfJIO5nl6SYM9VI0XIFz6pmg5lMM9Khdi7YtnOpQhpwLN1VWJxU8e8NqlGbLGt0dt/qrlvlBDxU7CtyHbnAuTDKMlJEtc6QWHX7U0ndGdGV3PlI+Tc91CdVfWWovoy0SSOl8PyWKcuT+NQYmGNgt1HpOZFyS8TaE6POffakpuG+vV/TkuZamKCJvKgkPZl5mAJn64oBmO5PKBB53q8v0w9igRI8608CSEBVKW3q45cFJ8ymoTUwFVqA+3EWK/F5NEeehouhunvrM3AiE/L6zZJCe0Aqic4mWGyB40EolluShC5z6SZKO4z2ixYj5UYlFZ5ebku4phv7Kzf8v43CWXMFfHD9aBzCf4xJwlWUWV8F8r5dUAHTg6uD99azLElSFrAblWfCK6JLIFJFgCaRnS49ZZKA3cYMzr0fWM3ISn6/fDKcxq0mVsQ+SS+EPQR4eSZGIMHwfWKZEuCxS0jEIrrpGB4sXoUkRY9dscguEnwuThkjYymkqiCla9p0snTXtRwCKVcXBDJ9gE2tgWIvKbow5x/ghbav9zfFfRLlKClBfyE5lx7u9T6ZiSSmipBFsJqnScVzQ0S1ZaJ08lBedXkN01bK5DHMp01bUrvHoL7KU6I6WzUUk0QNd6b75DWildCdreolyBv8VXIxVqO1NnSRQRMeAF4yz3OOrqxmpwfqg8ArBH2Zc6nY74NiZbfUZtUOQ5XGO4D1ySb2m3ZENWV8nIFUESP6n+v13MeoXt7urROpwiXRSSYCKwlieNz3i89JAxb+DuLNuwtOPCDKwbata7WI/aZfNClVNQmVzTqjoyhJfH8yv0rWdZRKLZK6bV7v3H1rV5AYLeRGnhjbVHn6kSTURORsNvy8SORqFheZs5ABHiUSaZsy9kXCSXPnWD0On26QMOs6vZg99TFfU+zbnom85ySapddeJBnJlzhgIctU/W00htvJMH5EQyPqE3PaadFXtmV3oYSjeZkidW+hvgOqJGy3xe5nN3FRkeb/TOap2iw==\"/>\\n    <input type=\"hidden\" value=\"384237d722697d757cdd98b11cedac58\" id=\"jschl-vc\" name=\"jschl_vc\"/>\\n    <!-- <input type=\"hidden\" value=\"796b12fb87d4d1aaa5e978e5b9390471\" id=\"jschl-vc\" name=\"jschl_vc\"/> -->\\n    <input type=\"hidden\" name=\"pass\" value=\"1592610477.349-KqONqexKaW\"/>\\n    <input type=\"hidden\" id=\"jschl-answer\" name=\"jschl_answer\"/>\\n  </form>\\n  <div style=\"display:none;visibility:hidden;\"><div id=\"QgQJcnue10\">+((!+[]+(!![])+!![]+!![]+!![]+!![]+!![]+!![]+[])+(!+[]+(!![])+!![])+(!+[]+(!![])+!![]+!![]+!![]+!![]+!![]+!![])+(!+[]-(!![]))+(!+[]+(!![])+!![]+!![])+(+!![])+(!+[]+(!![])+!![]+!![]+!![]+!![])+(!+[]+(!![])+!![]+!![])+(!+[]+(!![])+!![]+!![]+!![]+!![]+!![]))/+((!+[]+(!![])+!![]+!![]+!![]+!![]+!![]+!![]+[])+(!+[]+(!![])+!![])+(!+[]+(!![])+!![]+!![]+!![]+!![])+(!+[]+(!![])+!![]+!![])+(!+[]+(!![])-[])+(!+[]+(!![])+!![]+!![]+!![]+!![]+!![])+(!+[]+(!![])+!![]+!![]+!![])+(!+[]+(!![])-[])+(!+[]+(!![])+!![]))</div><div id=\"QgQJcnue4\">+((!+[]+(!![])+!![]+!![]+!![]+!![]+!![]+!![]+[])+(+!![])+(!+[]+(!![])+!![]+!![]+!![]+!![]+!![])+(!+[]+(!![])+!![]+!![]+!![])+(!+[]-(!![]))+(!+[]+(!![])+!![]+!![])+(!+[]+(!![])-[])+(!+[]+(!![])+!![]+!![])+(!+[]+(!![])+!![]))/+((!+[]+(!![])+!![]+!![]+!![]+!![]+!![]+!![]+[])+(!+[]+(!![])+!![]+!![]+!![]+!![]+!![]+!![])+(!+[]+(!![])+!![]+!![]+!![]+!![]+!![]+!![]+!![])+(!+[]+(!![])+!![]+!![]+!![]+!![]+!![]+!![])+(!+[]+(!![])+!![]+!![]+!![]+!![]+!![]+!![])+(+!![])+(+!![])+(!+[]+(!![])+!![]+!![]+!![]+!![]+!![])+(!+[]+(!![])-[]))</div><div id=\"QgQJcnue5\">+((!+[]+(!![])+!![]+!![]+!![]+!![]+!![]+!![]+!![]+[])+(!+[]+(!![])-[])+(!+[]-(!![]))+(!+[]+(!![])+!![]+!![])+(+!![])+(!+[]+(!![])+!![]+!![]+!![]+!![]+!![]+!![]+!![])+(!+[]+(!![])+!![]+!![]+!![]+!![]+!![]+!![])+(!+[]+(!![])-[])+(!+[]+(!![])+!![]))/+((!+[]+(!![])-[]+[])+(!+[]+(!![])+!![]+!![]+!![]+!![]+!![]+!![]+!![])+(!+[]+(!![])+!![]+!![]+!![]+!![])+(+!![])+(!+[]+(!![])+!![]+!![]+!![]+!![]+!![])+(!+[]+(!![])+!![]+!![]+!![])+(!+[]+(!![])-[])+(!+[]+(!![])-[])+(!+[]+(!![])+!![]+!![]))</div><div id=\"QgQJcnue6\">+((!+[]+(!![])+!![]+!![]+!![]+!![]+!![]+!![]+[])+(!+[]+(!![])+!![])+(!+[]+(!![])+!![]+!![]+!![]+!![]+!![]+!![])+(!+[]-(!![]))+(!+[]+(!![])+!![]+!![])+(+!![])+(!+[]+(!![])+!![]+!![]+!![]+!![])+(!+[]+(!![])+!![]+!![])+(+!![]))/+((!+[]+(!![])+!![]+!![]+!![]+!![]+!![]+[])+(!+[]+(!![])+!![]+!![])+(+!![])+(!+[]+(!![])+!![]+!![]+!![]+!![]+!![])+(!+[]+(!![])+!![]+!![]+!![]+!![]+!![]+!![])+(!+[]+(!![])+!![]+!![]+!![]+!![])+(!+[]+(!![])+!![])+(!+[]+(!![])+!![]+!![]+!![]+!![]+!![]+!![])+(+!![]))</div><div id=\"QgQJcnue12\">+((!+[]+(!![])+!![]+!![]+!![]+!![]+!![]+!![]+[])+(!+[]+(!![])+!![]+!![]+!![])+(!+[]+(!![])+!![]+!![]+!![]+!![]+!![]+!![])+(!+[]+(!![])+!![]+!![]+!![])+(!+[]+(!![])+!![]+!![]+!![]+!![]+!![]+!![]+!![])+(!+[]+(!![])+!![]+!![]+!![]+!![]+!![]+!![]+!![])+(!+[]+(!![])+!![]+!![]+!![])+(!+[]-(!![]))+(!+[]+(!![])+!![]))/+((+!![]+[])+(!+[]+(!![])+!![]+!![]+!![])+(!+[]+(!![])+!![]+!![]+!![]+!![]+!![]+!![])+(!+[]+(!![])+!![]+!![]+!![])+(!+[]+(!![])+!![]+!![]+!![]+!![]+!![]+!![]+!![])+(!+[]-(!![]))+(!+[]-(!![]))+(!+[]+(!![])+!![]+!![]+!![]+!![]+!![])+(!+[]+(!![])+!![]+!![]+!![]+!![]+!![]))</div><div id=\"QgQJcnue7\">+((!+[]+(!![])+!![]+!![]+!![]+!![]+!![]+[])+(!+[]+(!![])+!![]+!![]+!![]+!![]+!![]+!![]+!![])+(!+[]+(!![])+!![]+!![]+!![]+!![]+!![])+(!+[]-(!![]))+(!+[]-(!![]))+(!+[]+(!![])+!![])+(!+[]+(!![])+!![]+!![])+(!+[]+(!![])+!![])+(!+[]+(!![])+!![]+!![]+!![]+!![]+!![]))/+((+!![]+[])+(!+[]+(!![])+!![]+!![]+!![]+!![]+!![]+!![]+!![])+(+!![])+(!+[]+(!![])+!![])+(!+[]+(!![])+!![]+!![])+(!+[]+(!![])-[])+(!+[]+(!![])+!![]+!![]+!![]+!![]+!![]+!![]+!![])+(!+[]+(!![])+!![]+!![]+!![])+(+!![]))</div><div id=\"QgQJcnue1\">+((!+[]+(!![])+!![]+!![]+!![]+!![]+!![]+!![]+[])+(!+[]+(!![])+!![])+(!+[]+(!![])+!![]+!![]+!![]+!![]+!![]+!![])+(!+[]-(!![]))+(!+[]+(!![])+!![]+!![])+(+!![])+(!+[]+(!![])+!![]+!![]+!![]+!![])+(!+[]+(!![])+!![]+!![])+(!+[]+(!![])+!![]+!![]+!![]+!![]+!![]))/+((!+[]+(!![])+!![]+!![]+!![]+[])+(+!![])+(!+[]+(!![])+!![]+!![]+!![]+!![]+!![]+!![])+(!+[]+(!![])+!![]+!![])+(+!![])+(!+[]+(!![])-[])+(!+[]+(!![])+!![]+!![]+!![]+!![]+!![]+!![]+!![])+(!+[]+(!![])+!![]+!![]+!![]+!![]+!![]+!![])+(!+[]+(!![])+!![]+!![]))</div><div id=\"QgQJcnue8\">+((!+[]+(!![])+!![]+!![]+!![]+!![]+!![]+!![]+[])+(!+[]+(!![])+!![])+(!+[]+(!![])+!![]+!![]+!![]+!![]+!![]+!![])+(!+[]-(!![]))+(!+[]+(!![])+!![]+!![])+(+!![])+(!+[]+(!![])+!![]+!![]+!![]+!![])+(!+[]+(!![])+!![]+!![])+(+!![]))/+((!+[]+(!![])+!![]+[])+(!+[]+(!![])-[])+(!+[]+(!![])+!![]+!![])+(!+[]+(!![])+!![]+!![]+!![]+!![]+!![]+!![]+!![])+(!+[]+(!![])+!![]+!![])+(!+[]+(!![])+!![]+!![]+!![])+(!+[]+(!![])+!![]+!![]+!![])+(!+[]+(!![])+!![]+!![])+(!+[]+(!![])-[]))</div><div id=\"QgQJcnue11\">+((!+[]+(!![])+!![]+!![]+!![]+!![]+!![]+!![]+[])+(!+[]+(!![])+!![])+(!+[]+(!![])+!![]+!![]+!![]+!![]+!![]+!![])+(!+[]-(!![]))+(!+[]+(!![])+!![]+!![])+(+!![])+(!+[]+(!![])+!![]+!![]+!![]+!![])+(!+[]+(!![])+!![]+!![])+(+!![]))/+((!+[]+(!![])+!![]+[])+(!+[]+(!![])+!![]+!![]+!![]+!![]+!![]+!![]+!![])+(!+[]+(!![])+!![]+!![]+!![]+!![])+(!+[]+(!![])+!![]+!![]+!![])+(!+[]-(!![]))+(+!![])+(+!![])+(!+[]-(!![]))+(!+[]+(!![])-[]))</div><div id=\"QgQJcnue9\">+((!+[]+(!![])+!![]+!![]+!![]+!![]+!![]+!![]+!![]+[])+(!+[]+(!![])-[])+(!+[]-(!![]))+(!+[]+(!![])+!![]+!![])+(+!![])+(!+[]+(!![])+!![]+!![]+!![]+!![]+!![]+!![]+!![])+(!+[]+(!![])+!![]+!![]+!![]+!![]+!![]+!![])+(!+[]+(!![])-[])+(!+[]+(!![])+!![]))/+((!+[]+(!![])+!![]+!![]+!![]+!![]+!![]+!![]+[])+(!+[]+(!![])+!![]+!![]+!![]+!![]+!![]+!![])+(!+[]+(!![])+!![]+!![]+!![]+!![]+!![]+!![])+(!+[]+(!![])+!![])+(+!![])+(!+[]+(!![])+!![])+(!+[]+(!![])+!![]+!![]+!![]+!![])+(!+[]+(!![])+!![]+!![]+!![])+(!+[]+(!![])+!![]))</div><div id=\"QgQJcnue3\">+((!+[]+(!![])+!![]+!![]+!![]+!![]+!![]+!![]+[])+(!+[]+(!![])+!![]+!![]+!![])+(!+[]+(!![])+!![]+!![]+!![]+!![]+!![]+!![])+(!+[]+(!![])+!![]+!![]+!![])+(!+[]+(!![])+!![]+!![]+!![]+!![]+!![]+!![]+!![])+(!+[]+(!![])+!![]+!![]+!![]+!![]+!![]+!![]+!![])+(!+[]+(!![])+!![]+!![]+!![])+(!+[]-(!![]))+(!+[]+(!![])+!![]))/+((+!![]+[])+(!+[]+(!![])+!![]+!![]+!![]+!![]+!![]+!![])+(!+[]+(!![])+!![]+!![]+!![]+!![])+(!+[]+(!![])+!![]+!![]+!![]+!![]+!![]+!![]+!![])+(!+[]+(!![])+!![]+!![]+!![]+!![]+!![]+!![])+(!+[]+(!![])+!![]+!![])+(!+[]+(!![])+!![]+!![]+!![]+!![])+(!+[]+(!![])+!![]+!![]+!![]+!![]+!![]+!![]+!![])+(!+[]+(!![])-[]))</div><div id=\"QgQJcnue2\">+((!+[]+(!![])+!![]+!![]+!![]+!![]+!![]+!![]+!![]+[])+(!+[]+(!![])-[])+(!+[]-(!![]))+(!+[]+(!![])+!![]+!![])+(+!![])+(!+[]+(!![])+!![]+!![]+!![]+!![]+!![]+!![]+!![])+(!+[]+(!![])+!![]+!![]+!![]+!![]+!![]+!![])+(!+[]+(!![])-[])+(!+[]+(!![])+!![]))/+((!+[]+(!![])+!![]+!![]+[])+(!+[]+(!![])+!![]+!![]+!![])+(!+[]-(!![]))+(!+[]+(!![])+!![]+!![]+!![]+!![]+!![])+(!+[]+(!![])+!![])+(!+[]+(!![])+!![]+!![])+(!+[]+(!![])+!![])+(!+[]+(!![])+!![])+(!+[]+(!![])+!![]))</div></div>\\n  <div id=\"trk_jschal_nojs\" style=\"background-image:url(\\'/cdn-cgi/images/trace/jschal/nojs/transparent.gif?ray=5a6123425e0ff99d\\')\"> </div>\\n</div>\\n</div>\\n\\n\\t<script>!function(){let highchartsLoading=!1,highchartsCallbacks=[];window.SteamDB={ExtensionUserdataLoaded:[function(data,options){const usesDataTable=\"function\"==typeof $&&\"object\"==typeof $.fn&&\"function\"==typeof $.fn.dataTable;let element,apps=usesDataTable?[]:document.querySelectorAll(\"tr.app\"),packages=usesDataTable?[]:document.querySelectorAll(\"tr.package\");const packageScope=document.querySelector(\".scope-package\"),appScope=document.querySelector(\".scope-app\");let id,i;usesDataTable&&$($.fn.dataTable.tables()).each((function(){element=$(this).DataTable().table(),apps=element.rows(\".app\").nodes().reduce((function(coll,item){return coll.push(item),coll}),apps),packages=element.rows(\".package\").nodes().reduce((function(coll,item){return coll.push(item),coll}),packages)}));const mapAppsToElements=[],mapPackagesToElements=[];for(i=0;i<apps.length;i++)mapAppsToElements[(element=apps[i]).dataset.appid]=element;for(apps=null,i=0;i<packages.length;i++)mapPackagesToElements[(element=packages[i]).dataset.subid]=element;if(packages=null,appScope||mapAppsToElements.length>0){const scopeAppID=appScope&&appScope.dataset.appid;if(data.rgWishlist)for(i=0;i<data.rgWishlist.length;i++)(element=mapAppsToElements[data.rgWishlist[i]])&&element.classList.add(\"wished\");if(data.rgOwnedApps)for(i=0;i<data.rgOwnedApps.length;i++)if(id=data.rgOwnedApps[i],(element=mapAppsToElements[id])&&element.classList.add(\"owned\"),scopeAppID==id){const installButton=document.querySelector(\"#js-app-install\");installButton&&(installButton.classList.add(\"btn-primary\"),installButton.querySelector(\"span\").textContent=\"Owned\")}if(data.rgAppsInCart)for(i=0;i<data.rgAppsInCart.length;i++)(element=mapAppsToElements[data.rgAppsInCart[i]])&&element.classList.add(\"cart\");if(data.rgIgnoredApps)for(i in data.rgIgnoredApps)(element=mapAppsToElements[i])&&element.classList.add(\"ignored\")}if(packageScope||mapPackagesToElements.length>0){const scopeSubID=packageScope&&packageScope.dataset.subid;if(data.rgOwnedPackages)for(i=0;i<data.rgOwnedPackages.length;i++)if(id=data.rgOwnedPackages[i],(element=mapPackagesToElements[id])&&element.classList.add(\"owned\"),scopeSubID==id){const installButton=document.querySelector(\".panel-ownership\");installButton&&(installButton.hidden=!1)}if(data.rgPackagesInCart)for(i=0;i<data.rgPackagesInCart.length;i++)(element=mapPackagesToElements[data.rgPackagesInCart[i]])&&element.classList.add(\"cart\");if(data.rgIgnoredPackages)for(i in data.rgIgnoredPackages)(element=mapAppsToElements[i])&&element.classList.add(\"ignored\")}if(appScope&&document.querySelector(\"#subs .package.owned\")){const installButton=document.querySelector(\"#js-app-install\");installButton&&(installButton.classList.add(\"btn-primary\"),installButton.querySelector(\"span\").textContent=\"Owned\")}}],Storage:{Get:function(key){try{return window.localStorage.getItem(key)}catch(e){return null}},Set:function(key,value){try{window.localStorage.setItem(key,value)}catch(e){}},Remove:function(key){try{window.localStorage.removeItem(key)}catch(e){}}},RequireHighstock:function(callback){if(window.Highcharts)return callback();if(highchartsCallbacks.push(callback),highchartsLoading)return;highchartsLoading=!0;const script=document.createElement(\"script\");script.src=\"/static/js/vendor/highstock.2d06d0348e7acff7eda191166d24753a.js\",script.integrity=\"sha512-LQbQNI56z/ftoZEWbSR1OgnQAhheBR9kPqANJJWXVRmxkSbtdObYrpKz4aPpabgUKFqM9AXa/NF6Cmsb8KUHoQ==\",script.async=!0,script.addEventListener(\"load\",(function(){let source=document.querySelector(\\'link[rel=\"canonical\"]\\');source=source?source.href:\"SteamDB.info\",Highcharts.setOptions({chart:{animation:!1,backgroundColor:\"transparent\",style:{fontSize:\"14px\",fontFamily:\"inherit\"}},title:{style:{color:\"var(--body-color)\"}},yAxis:{gridLineColor:\"rgba(180, 180, 180, 0.2)\"},xAxis:{lineColor:\"var(--border-color)\",tickColor:\"var(--border-color)\",crosshair:{width:30,color:\"rgba(180, 180, 180, 0.2)\"}},legend:{itemHoverStyle:{color:\"var(--link-color)\"},itemHiddenStyle:{color:\"var(--border-color)\"},itemStyle:{color:\"var(--body-color)\",fontSize:\"16px\",fontWeight:400}},plotOptions:{series:{animation:!1,states:{hover:{lineWidthPlus:0}}}},credits:{href:\"https://steamdb.info\",text:\"SteamDB.info\"},exporting:{scale:1.5,sourceWidth:800,sourceHeight:420,chartOptions:{chart:{backgroundColor:\"#fff\",style:{fontFamily:\"Arial\"}},title:{style:{fontSize:\"12px\"},text:\"Source: \"+source,align:\"left\",x:10,y:10},legend:{itemStyle:{fontSize:\"12px\"}},credits:{enabled:!1},navigator:{enabled:!1},rangeSelector:{enabled:!1}},buttons:{contextButton:{symbol:\"url(/static/img/download.svg)\",symbolSize:20,symbolX:22,symbolY:21,menuItems:[\"downloadCSV\",\"downloadXLS\",\"separator\",\"downloadPNG\",\"downloadPDF\",\"downloadSVG\"],theme:{fill:\"none\",r:3,states:{hover:{fill:\"var(--border-color-2)\"},select:{fill:\"var(--border-color)\"}}}}}},rangeSelector:{inputEnabled:!1,labelStyle:{color:\"var(--body-color)\"},buttonTheme:{width:36,fill:\"none\",r:3,style:{color:\"var(--link-color)\",fontWeight:\"bold\"},states:{hover:{fill:\"var(--border-color-2)\",style:{color:\"var(--link-color-hover)\"}},select:{fill:\"var(--border-color)\",style:{color:\"var(--body-color)\"}},disabled:{color:\"var(--muted-color)\"}}}},navigator:{handles:{backgroundColor:\"var(--border-color-2)\",borderColor:\"var(--link-color)\"},xAxis:{gridLineWidth:0},outlineColor:\"var(--border-color)\"},tooltip:{shared:!0,split:!1,shadow:!1,borderWidth:0,borderRadius:6,backgroundColor:\"rgba(0, 0, 0, 0.8)\",style:{color:\"#FFF\"}}});for(let i=0;i<highchartsCallbacks.length;i++)highchartsCallbacks[i]();highchartsCallbacks=[],highchartsLoading=!1})),document.head.appendChild(script)}};const removeUtms=function(){-1!==window.location.search.indexOf(\"utm_\")&&history.replaceState&&history.replaceState({},\"\",window.location.toString().replace(/(&|\\\\?)utm([_a-z0-9=+%.\\\\-+]+)/gi,\"\"))};let headerTimeout=null;const headerContainer=document.querySelector(\".header\");headerContainer.addEventListener(\"click\",(function(e){\"js-header-search\"!==e.target.id&&headerContainer.classList.toggle(\"header-menu-shown\")})),headerContainer.addEventListener(\"mouseenter\",(function(){window.innerWidth<=980||(headerTimeout=setTimeout((function(){headerContainer.classList.add(\"header-menu-shown\")}),150))}),{passive:!0}),headerContainer.addEventListener(\"mouseleave\",(function(){window.innerWidth<=980||(clearTimeout(headerTimeout),headerContainer.classList.remove(\"header-menu-shown\"))}),{passive:!0});const search=document.getElementById(\"js-header-form\");search&&search.addEventListener(\"submit\",(function(e){const value=document.getElementById(\"js-header-search\").value.replace(/^\\\\s+|\\\\s+$/g,\"\");let match=value.match(/^([0-9]{1,7})$/);return null!==match?(window.location=(e.shiftKey?\"/sub/\":\"/app/\")+match[0]+\"/\",void e.preventDefault()):null!==(match=value.match(/\\\\/(?:id|profiles)\\\\/([\\\\d\\\\w-]+)/))?(window.location=\"/calculator/?player=\"+match[1],void e.preventDefault()):null!==(match=value.match(/(7656119[0-9]{10})/))?(window.location=\"/calculator/?player=\"+match[1],void e.preventDefault()):void(null!==(match=value.match(/\\\\/(app|sub|bundle)\\\\/([0-9]{1,7})/))&&(window.location=match[0]+\"/\",e.preventDefault()))}),!1),window.GoogleAnalyticsObject=\"ga\",window.ga=function(){window.ga.q.push(arguments)},window.ga.q=[],window.ga.l=Date.now(),ga(\"create\",\"UA-37177069-1\",\"auto\"),ga(\"set\",\"anonymizeIp\",!0),ga(\"set\",\"transport\",\"beacon\"),\"steamdb.info\"===window.location.hostname&&ga(\"send\",\"pageview\",{hitCallback:removeUtms})}();</script>\\n</body>\\n</html>'"
      ]
     },
     "execution_count": 47,
     "metadata": {},
     "output_type": "execute_result"
    }
   ],
   "source": [
    "page.content.decode(\"utf-8\")"
   ]
  },
  {
   "cell_type": "code",
   "execution_count": 48,
   "metadata": {},
   "outputs": [],
   "source": [
    "import webbrowser"
   ]
  },
  {
   "cell_type": "code",
   "execution_count": 49,
   "metadata": {},
   "outputs": [
    {
     "data": {
      "text/plain": [
       "True"
      ]
     },
     "execution_count": 49,
     "metadata": {},
     "output_type": "execute_result"
    }
   ],
   "source": [
    "webbrowser.open('https://steamdb.info/upcoming/free/')"
   ]
  },
  {
   "cell_type": "code",
   "execution_count": 71,
   "metadata": {},
   "outputs": [
    {
     "name": "stdout",
     "output_type": "stream",
     "text": [
      "Requirement already up-to-date: cfscrape in c:\\users\\zivno\\appdata\\local\\programs\\python\\python38\\lib\\site-packages (2.1.1)"
     ]
    },
    {
     "name": "stderr",
     "output_type": "stream",
     "text": [
      "WARNING: You are using pip version 20.1; however, version 20.1.1 is available.\n",
      "You should consider upgrading via the 'c:\\users\\zivno\\appdata\\local\\programs\\python\\python38\\python.exe -m pip install --upgrade pip' command.\n"
     ]
    },
    {
     "name": "stdout",
     "output_type": "stream",
     "text": [
      "\n",
      "Requirement already satisfied, skipping upgrade: requests>=2.6.1 in c:\\users\\zivno\\appdata\\local\\programs\\python\\python38\\lib\\site-packages (from cfscrape) (2.23.0)\n",
      "Requirement already satisfied, skipping upgrade: certifi>=2017.4.17 in c:\\users\\zivno\\appdata\\local\\programs\\python\\python38\\lib\\site-packages (from requests>=2.6.1->cfscrape) (2020.4.5.1)\n",
      "Requirement already satisfied, skipping upgrade: chardet<4,>=3.0.2 in c:\\users\\zivno\\appdata\\local\\programs\\python\\python38\\lib\\site-packages (from requests>=2.6.1->cfscrape) (3.0.4)\n",
      "Requirement already satisfied, skipping upgrade: idna<3,>=2.5 in c:\\users\\zivno\\appdata\\local\\programs\\python\\python38\\lib\\site-packages (from requests>=2.6.1->cfscrape) (2.9)\n",
      "Requirement already satisfied, skipping upgrade: urllib3!=1.25.0,!=1.25.1,<1.26,>=1.21.1 in c:\\users\\zivno\\appdata\\local\\programs\\python\\python38\\lib\\site-packages (from requests>=2.6.1->cfscrape) (1.25.9)\n"
     ]
    }
   ],
   "source": [
    "!pip install -U cfscrape"
   ]
  },
  {
   "cell_type": "code",
   "execution_count": 72,
   "metadata": {},
   "outputs": [],
   "source": [
    "import cfscrape\n",
    "scraper = cfscrape.create_scraper()"
   ]
  },
  {
   "cell_type": "code",
   "execution_count": 73,
   "metadata": {},
   "outputs": [
    {
     "ename": "ValueError",
     "evalue": "Unable to identify Cloudflare IUAM Javascript on website. Cloudflare may have changed their technique, or there may be a bug in the script.\n\nPlease read https://github.com/Anorov/cloudflare-scrape#updates, then file a bug report at https://github.com/Anorov/cloudflare-scrape/issues.\"",
     "output_type": "error",
     "traceback": [
      "\u001b[1;31m---------------------------------------------------------------------------\u001b[0m",
      "\u001b[1;31mAttributeError\u001b[0m                            Traceback (most recent call last)",
      "\u001b[1;32mc:\\users\\zivno\\appdata\\local\\programs\\python\\python38\\lib\\site-packages\\cfscrape\\__init__.py\u001b[0m in \u001b[0;36msolve_challenge\u001b[1;34m(self, body, domain)\u001b[0m\n\u001b[0;32m    250\u001b[0m \u001b[1;33m\u001b[0m\u001b[0m\n\u001b[1;32m--> 251\u001b[1;33m             challenge, ms = re.search(\n\u001b[0m\u001b[0;32m    252\u001b[0m                 \u001b[1;34mr\"setTimeout\\(function\\(\\){\\s*(var \"\u001b[0m\u001b[1;33m\u001b[0m\u001b[1;33m\u001b[0m\u001b[0m\n",
      "\u001b[1;31mAttributeError\u001b[0m: 'NoneType' object has no attribute 'groups'",
      "\nDuring handling of the above exception, another exception occurred:\n",
      "\u001b[1;31mValueError\u001b[0m                                Traceback (most recent call last)",
      "\u001b[1;32m<ipython-input-73-915abd0708b2>\u001b[0m in \u001b[0;36m<module>\u001b[1;34m\u001b[0m\n\u001b[1;32m----> 1\u001b[1;33m \u001b[0md\u001b[0m \u001b[1;33m=\u001b[0m \u001b[0mscraper\u001b[0m\u001b[1;33m.\u001b[0m\u001b[0mget\u001b[0m\u001b[1;33m(\u001b[0m\u001b[1;34m\"https://steamdb.info/upcoming/free/\"\u001b[0m\u001b[1;33m)\u001b[0m\u001b[1;33m\u001b[0m\u001b[1;33m\u001b[0m\u001b[0m\n\u001b[0m\u001b[0;32m      2\u001b[0m \u001b[0md\u001b[0m\u001b[1;33m\u001b[0m\u001b[1;33m\u001b[0m\u001b[0m\n",
      "\u001b[1;32mc:\\users\\zivno\\appdata\\local\\programs\\python\\python38\\lib\\site-packages\\requests\\sessions.py\u001b[0m in \u001b[0;36mget\u001b[1;34m(self, url, **kwargs)\u001b[0m\n\u001b[0;32m    541\u001b[0m \u001b[1;33m\u001b[0m\u001b[0m\n\u001b[0;32m    542\u001b[0m         \u001b[0mkwargs\u001b[0m\u001b[1;33m.\u001b[0m\u001b[0msetdefault\u001b[0m\u001b[1;33m(\u001b[0m\u001b[1;34m'allow_redirects'\u001b[0m\u001b[1;33m,\u001b[0m \u001b[1;32mTrue\u001b[0m\u001b[1;33m)\u001b[0m\u001b[1;33m\u001b[0m\u001b[1;33m\u001b[0m\u001b[0m\n\u001b[1;32m--> 543\u001b[1;33m         \u001b[1;32mreturn\u001b[0m \u001b[0mself\u001b[0m\u001b[1;33m.\u001b[0m\u001b[0mrequest\u001b[0m\u001b[1;33m(\u001b[0m\u001b[1;34m'GET'\u001b[0m\u001b[1;33m,\u001b[0m \u001b[0murl\u001b[0m\u001b[1;33m,\u001b[0m \u001b[1;33m**\u001b[0m\u001b[0mkwargs\u001b[0m\u001b[1;33m)\u001b[0m\u001b[1;33m\u001b[0m\u001b[1;33m\u001b[0m\u001b[0m\n\u001b[0m\u001b[0;32m    544\u001b[0m \u001b[1;33m\u001b[0m\u001b[0m\n\u001b[0;32m    545\u001b[0m     \u001b[1;32mdef\u001b[0m \u001b[0moptions\u001b[0m\u001b[1;33m(\u001b[0m\u001b[0mself\u001b[0m\u001b[1;33m,\u001b[0m \u001b[0murl\u001b[0m\u001b[1;33m,\u001b[0m \u001b[1;33m**\u001b[0m\u001b[0mkwargs\u001b[0m\u001b[1;33m)\u001b[0m\u001b[1;33m:\u001b[0m\u001b[1;33m\u001b[0m\u001b[1;33m\u001b[0m\u001b[0m\n",
      "\u001b[1;32mc:\\users\\zivno\\appdata\\local\\programs\\python\\python38\\lib\\site-packages\\cfscrape\\__init__.py\u001b[0m in \u001b[0;36mrequest\u001b[1;34m(self, method, url, *args, **kwargs)\u001b[0m\n\u001b[0;32m    127\u001b[0m         \u001b[1;31m# Check if Cloudflare anti-bot \"I'm Under Attack Mode\" is enabled\u001b[0m\u001b[1;33m\u001b[0m\u001b[1;33m\u001b[0m\u001b[1;33m\u001b[0m\u001b[0m\n\u001b[0;32m    128\u001b[0m         \u001b[1;32mif\u001b[0m \u001b[0mself\u001b[0m\u001b[1;33m.\u001b[0m\u001b[0mis_cloudflare_iuam_challenge\u001b[0m\u001b[1;33m(\u001b[0m\u001b[0mresp\u001b[0m\u001b[1;33m)\u001b[0m\u001b[1;33m:\u001b[0m\u001b[1;33m\u001b[0m\u001b[1;33m\u001b[0m\u001b[0m\n\u001b[1;32m--> 129\u001b[1;33m             \u001b[0mresp\u001b[0m \u001b[1;33m=\u001b[0m \u001b[0mself\u001b[0m\u001b[1;33m.\u001b[0m\u001b[0msolve_cf_challenge\u001b[0m\u001b[1;33m(\u001b[0m\u001b[0mresp\u001b[0m\u001b[1;33m,\u001b[0m \u001b[1;33m**\u001b[0m\u001b[0mkwargs\u001b[0m\u001b[1;33m)\u001b[0m\u001b[1;33m\u001b[0m\u001b[1;33m\u001b[0m\u001b[0m\n\u001b[0m\u001b[0;32m    130\u001b[0m \u001b[1;33m\u001b[0m\u001b[0m\n\u001b[0;32m    131\u001b[0m         \u001b[1;32mreturn\u001b[0m \u001b[0mresp\u001b[0m\u001b[1;33m\u001b[0m\u001b[1;33m\u001b[0m\u001b[0m\n",
      "\u001b[1;32mc:\\users\\zivno\\appdata\\local\\programs\\python\\python38\\lib\\site-packages\\cfscrape\\__init__.py\u001b[0m in \u001b[0;36msolve_cf_challenge\u001b[1;34m(self, resp, **original_kwargs)\u001b[0m\n\u001b[0;32m    202\u001b[0m \u001b[1;33m\u001b[0m\u001b[0m\n\u001b[0;32m    203\u001b[0m         \u001b[1;31m# Solve the Javascript challenge\u001b[0m\u001b[1;33m\u001b[0m\u001b[1;33m\u001b[0m\u001b[1;33m\u001b[0m\u001b[0m\n\u001b[1;32m--> 204\u001b[1;33m         \u001b[0manswer\u001b[0m\u001b[1;33m,\u001b[0m \u001b[0mdelay\u001b[0m \u001b[1;33m=\u001b[0m \u001b[0mself\u001b[0m\u001b[1;33m.\u001b[0m\u001b[0msolve_challenge\u001b[0m\u001b[1;33m(\u001b[0m\u001b[0mbody\u001b[0m\u001b[1;33m,\u001b[0m \u001b[0mdomain\u001b[0m\u001b[1;33m)\u001b[0m\u001b[1;33m\u001b[0m\u001b[1;33m\u001b[0m\u001b[0m\n\u001b[0m\u001b[0;32m    205\u001b[0m         \u001b[1;32mif\u001b[0m \u001b[0mmethod\u001b[0m \u001b[1;33m==\u001b[0m \u001b[1;34m'POST'\u001b[0m\u001b[1;33m:\u001b[0m\u001b[1;33m\u001b[0m\u001b[1;33m\u001b[0m\u001b[0m\n\u001b[0;32m    206\u001b[0m             \u001b[0mcloudflare_kwargs\u001b[0m\u001b[1;33m[\u001b[0m\u001b[1;34m\"data\"\u001b[0m\u001b[1;33m]\u001b[0m\u001b[1;33m[\u001b[0m\u001b[1;34m\"jschl_answer\"\u001b[0m\u001b[1;33m]\u001b[0m \u001b[1;33m=\u001b[0m \u001b[0manswer\u001b[0m\u001b[1;33m\u001b[0m\u001b[1;33m\u001b[0m\u001b[0m\n",
      "\u001b[1;32mc:\\users\\zivno\\appdata\\local\\programs\\python\\python38\\lib\\site-packages\\cfscrape\\__init__.py\u001b[0m in \u001b[0;36msolve_challenge\u001b[1;34m(self, body, domain)\u001b[0m\n\u001b[0;32m    288\u001b[0m             \u001b[0mdelay\u001b[0m \u001b[1;33m=\u001b[0m \u001b[0mself\u001b[0m\u001b[1;33m.\u001b[0m\u001b[0mdelay\u001b[0m \u001b[1;32mor\u001b[0m \u001b[1;33m(\u001b[0m\u001b[0mfloat\u001b[0m\u001b[1;33m(\u001b[0m\u001b[0mms\u001b[0m\u001b[1;33m)\u001b[0m \u001b[1;33m/\u001b[0m \u001b[0mfloat\u001b[0m\u001b[1;33m(\u001b[0m\u001b[1;36m1000\u001b[0m\u001b[1;33m)\u001b[0m \u001b[1;32mif\u001b[0m \u001b[0mms\u001b[0m \u001b[1;32melse\u001b[0m \u001b[1;36m8\u001b[0m\u001b[1;33m)\u001b[0m\u001b[1;33m\u001b[0m\u001b[1;33m\u001b[0m\u001b[0m\n\u001b[0;32m    289\u001b[0m         \u001b[1;32mexcept\u001b[0m \u001b[0mException\u001b[0m\u001b[1;33m:\u001b[0m\u001b[1;33m\u001b[0m\u001b[1;33m\u001b[0m\u001b[0m\n\u001b[1;32m--> 290\u001b[1;33m             raise ValueError(\n\u001b[0m\u001b[0;32m    291\u001b[0m                 \u001b[1;34m\"Unable to identify Cloudflare IUAM Javascript on website. %s\"\u001b[0m\u001b[1;33m\u001b[0m\u001b[1;33m\u001b[0m\u001b[0m\n\u001b[0;32m    292\u001b[0m                 \u001b[1;33m%\u001b[0m \u001b[0mBUG_REPORT\u001b[0m\u001b[1;33m\u001b[0m\u001b[1;33m\u001b[0m\u001b[0m\n",
      "\u001b[1;31mValueError\u001b[0m: Unable to identify Cloudflare IUAM Javascript on website. Cloudflare may have changed their technique, or there may be a bug in the script.\n\nPlease read https://github.com/Anorov/cloudflare-scrape#updates, then file a bug report at https://github.com/Anorov/cloudflare-scrape/issues.\""
     ]
    }
   ],
   "source": [
    "d = scraper.get(\"https://steamdb.info/upcoming/free/\")\n",
    "d"
   ]
  },
  {
   "cell_type": "code",
   "execution_count": 57,
   "metadata": {},
   "outputs": [
    {
     "name": "stdout",
     "output_type": "stream",
     "text": [
      "Collecting dryscrape\n",
      "  Downloading dryscrape-1.0.tar.gz (5.5 kB)\n"
     ]
    },
    {
     "name": "stderr",
     "output_type": "stream",
     "text": [
      "  ERROR: Command errored out with exit status 1:\n",
      "   command: 'c:\\users\\zivno\\appdata\\local\\programs\\python\\python38\\python.exe' -u -c 'import sys, setuptools, tokenize; sys.argv[0] = '\"'\"'C:\\\\Users\\\\zivno\\\\AppData\\\\Local\\\\Temp\\\\pip-install-npxhlu5i\\\\webkit-server\\\\setup.py'\"'\"'; __file__='\"'\"'C:\\\\Users\\\\zivno\\\\AppData\\\\Local\\\\Temp\\\\pip-install-npxhlu5i\\\\webkit-server\\\\setup.py'\"'\"';f=getattr(tokenize, '\"'\"'open'\"'\"', open)(__file__);code=f.read().replace('\"'\"'\\r\\n'\"'\"', '\"'\"'\\n'\"'\"');f.close();exec(compile(code, __file__, '\"'\"'exec'\"'\"'))' bdist_wheel -d 'C:\\Users\\zivno\\AppData\\Local\\Temp\\pip-wheel-ige81bve'\n",
      "       cwd: C:\\Users\\zivno\\AppData\\Local\\Temp\\pip-install-npxhlu5i\\webkit-server\\\n",
      "  Complete output (5 lines):\n",
      "  running bdist_wheel\n",
      "  running build\n",
      "  'qmake' is not recognized as an internal or external command,\n",
      "  operable program or batch file.\n",
      "  error: [Errno 2] No such file or directory: 'src/webkit_server'\n",
      "  ----------------------------------------\n",
      "  ERROR: Failed building wheel for webkit-server\n"
     ]
    },
    {
     "name": "stdout",
     "output_type": "stream",
     "text": [
      "Collecting webkit_server>=1.0\n",
      "  Downloading webkit-server-1.0.tar.gz (41 kB)\n",
      "Requirement already satisfied: lxml in c:\\users\\zivno\\appdata\\local\\programs\\python\\python38\\lib\\site-packages (from dryscrape) (4.5.0)\n",
      "Collecting xvfbwrapper\n",
      "  Downloading xvfbwrapper-0.2.9.tar.gz (5.6 kB)\n",
      "Building wheels for collected packages: dryscrape, webkit-server, xvfbwrapper\n",
      "  Building wheel for dryscrape (setup.py): started\n",
      "  Building wheel for dryscrape (setup.py): finished with status 'done'\n",
      "  Created wheel for dryscrape: filename=dryscrape-1.0-py3-none-any.whl size=5444 sha256=1f3d3c14bb4be8d21fb926e8415d50c5719d8a520bb9f8e0e2883a348f679009\n",
      "  Stored in directory: c:\\users\\zivno\\appdata\\local\\pip\\cache\\wheels\\dc\\91\\29\\1fefbb583232c3bd053f20db58c545c79cdd7779c424de4812\n",
      "  Building wheel for webkit-server (setup.py): started\n",
      "  Building wheel for webkit-server (setup.py): finished with status 'error'\n",
      "  Running setup.py clean for webkit-server\n",
      "  Building wheel for xvfbwrapper (setup.py): started\n",
      "  Building wheel for xvfbwrapper (setup.py): finished with status 'done'\n",
      "  Created wheel for xvfbwrapper: filename=xvfbwrapper-0.2.9-py3-none-any.whl size=5015 sha256=38536d9e824a75299f34e0972ae635e023f83403d20d30ddcb683c5e178ef0dc\n",
      "  Stored in directory: c:\\users\\zivno\\appdata\\local\\pip\\cache\\wheels\\e1\\da\\b4\\57ac130c024104997ae76f389fe0e7e43922ec3cfdffaf1b1e\n",
      "Successfully built dryscrape xvfbwrapper\n",
      "Failed to build webkit-server\n",
      "Installing collected packages: webkit-server, xvfbwrapper, dryscrape\n",
      "    Running setup.py install for webkit-server: started\n",
      "    Running setup.py install for webkit-server: finished with status 'error'\n"
     ]
    },
    {
     "name": "stderr",
     "output_type": "stream",
     "text": [
      "    ERROR: Command errored out with exit status 1:\n",
      "     command: 'c:\\users\\zivno\\appdata\\local\\programs\\python\\python38\\python.exe' -u -c 'import sys, setuptools, tokenize; sys.argv[0] = '\"'\"'C:\\\\Users\\\\zivno\\\\AppData\\\\Local\\\\Temp\\\\pip-install-npxhlu5i\\\\webkit-server\\\\setup.py'\"'\"'; __file__='\"'\"'C:\\\\Users\\\\zivno\\\\AppData\\\\Local\\\\Temp\\\\pip-install-npxhlu5i\\\\webkit-server\\\\setup.py'\"'\"';f=getattr(tokenize, '\"'\"'open'\"'\"', open)(__file__);code=f.read().replace('\"'\"'\\r\\n'\"'\"', '\"'\"'\\n'\"'\"');f.close();exec(compile(code, __file__, '\"'\"'exec'\"'\"'))' install --record 'C:\\Users\\zivno\\AppData\\Local\\Temp\\pip-record-gaxinadk\\install-record.txt' --single-version-externally-managed --compile --install-headers 'c:\\users\\zivno\\appdata\\local\\programs\\python\\python38\\Include\\webkit-server'\n",
      "         cwd: C:\\Users\\zivno\\AppData\\Local\\Temp\\pip-install-npxhlu5i\\webkit-server\\\n",
      "    Complete output (5 lines):\n",
      "    running install\n",
      "    running build\n",
      "    'qmake' is not recognized as an internal or external command,\n",
      "    operable program or batch file.\n",
      "    error: [Errno 2] No such file or directory: 'src/webkit_server'\n",
      "    ----------------------------------------\n",
      "ERROR: Command errored out with exit status 1: 'c:\\users\\zivno\\appdata\\local\\programs\\python\\python38\\python.exe' -u -c 'import sys, setuptools, tokenize; sys.argv[0] = '\"'\"'C:\\\\Users\\\\zivno\\\\AppData\\\\Local\\\\Temp\\\\pip-install-npxhlu5i\\\\webkit-server\\\\setup.py'\"'\"'; __file__='\"'\"'C:\\\\Users\\\\zivno\\\\AppData\\\\Local\\\\Temp\\\\pip-install-npxhlu5i\\\\webkit-server\\\\setup.py'\"'\"';f=getattr(tokenize, '\"'\"'open'\"'\"', open)(__file__);code=f.read().replace('\"'\"'\\r\\n'\"'\"', '\"'\"'\\n'\"'\"');f.close();exec(compile(code, __file__, '\"'\"'exec'\"'\"'))' install --record 'C:\\Users\\zivno\\AppData\\Local\\Temp\\pip-record-gaxinadk\\install-record.txt' --single-version-externally-managed --compile --install-headers 'c:\\users\\zivno\\appdata\\local\\programs\\python\\python38\\Include\\webkit-server' Check the logs for full command output.\n",
      "WARNING: You are using pip version 20.1; however, version 20.1.1 is available.\n",
      "You should consider upgrading via the 'c:\\users\\zivno\\appdata\\local\\programs\\python\\python38\\python.exe -m pip install --upgrade pip' command.\n"
     ]
    }
   ],
   "source": [
    "!pip install dryscrape"
   ]
  },
  {
   "cell_type": "code",
   "execution_count": 56,
   "metadata": {},
   "outputs": [
    {
     "ename": "ModuleNotFoundError",
     "evalue": "No module named 'dryscrape'",
     "output_type": "error",
     "traceback": [
      "\u001b[1;31m---------------------------------------------------------------------------\u001b[0m",
      "\u001b[1;31mModuleNotFoundError\u001b[0m                       Traceback (most recent call last)",
      "\u001b[1;32m<ipython-input-56-aaf49b28a713>\u001b[0m in \u001b[0;36m<module>\u001b[1;34m\u001b[0m\n\u001b[1;32m----> 1\u001b[1;33m \u001b[1;32mimport\u001b[0m \u001b[0mdryscrape\u001b[0m\u001b[1;33m\u001b[0m\u001b[1;33m\u001b[0m\u001b[0m\n\u001b[0m\u001b[0;32m      2\u001b[0m \u001b[1;32mfrom\u001b[0m \u001b[0mbs4\u001b[0m \u001b[1;32mimport\u001b[0m \u001b[0mBeautifulSoup\u001b[0m\u001b[1;33m\u001b[0m\u001b[1;33m\u001b[0m\u001b[0m\n\u001b[0;32m      3\u001b[0m \u001b[0msession\u001b[0m \u001b[1;33m=\u001b[0m \u001b[0mdryscrape\u001b[0m\u001b[1;33m.\u001b[0m\u001b[0mSession\u001b[0m\u001b[1;33m(\u001b[0m\u001b[1;33m)\u001b[0m\u001b[1;33m\u001b[0m\u001b[1;33m\u001b[0m\u001b[0m\n\u001b[0;32m      4\u001b[0m \u001b[0msession\u001b[0m\u001b[1;33m.\u001b[0m\u001b[0mvisit\u001b[0m\u001b[1;33m(\u001b[0m\u001b[1;34m\"https://steamdb.info/upcoming/free/\"\u001b[0m\u001b[1;33m)\u001b[0m\u001b[1;33m\u001b[0m\u001b[1;33m\u001b[0m\u001b[0m\n\u001b[0;32m      5\u001b[0m \u001b[0mresponse\u001b[0m \u001b[1;33m=\u001b[0m \u001b[0msession\u001b[0m\u001b[1;33m.\u001b[0m\u001b[0mbody\u001b[0m\u001b[1;33m(\u001b[0m\u001b[1;33m)\u001b[0m\u001b[1;33m\u001b[0m\u001b[1;33m\u001b[0m\u001b[0m\n",
      "\u001b[1;31mModuleNotFoundError\u001b[0m: No module named 'dryscrape'"
     ]
    }
   ],
   "source": [
    "import dryscrape\n",
    "session = dryscrape.Session()\n",
    "session.visit(\"https://steamdb.info/upcoming/free/\")"
   ]
  },
  {
   "cell_type": "code",
   "execution_count": 87,
   "metadata": {
    "jupyter": {
     "source_hidden": true
    }
   },
   "outputs": [],
   "source": [
    "\n",
    "class steamItem:\n",
    "    def __init__(self, name, steamId, promoType, promoStart, promoEnd, databaseUrl):\n",
    "        self.name = name\n",
    "        self.steamId = str(steamId)\n",
    "        self.promoType = promoType\n",
    "        self.promoStart = promoStart\n",
    "        self.promoEnd = promoEnd\n",
    "        self.databaseUrl = databaseUrl\n",
    "\n",
    "    def getApp(self):\n",
    "        return \"https://store.steampowered.com/app/\" + self.steamId\n",
    "\n",
    "    def getAppInfo(self):\n",
    "        return requests.get(\"https://store.steampowered.com/api/appdetails?appids=\" + self.steamId).json()[self.steamId]\n",
    "\n",
    "    def getImgUrl(self, small=False):\n",
    "        aug = \"\"\n",
    "        if small:\n",
    "            aug = \"_292x136\"\n",
    "\n",
    "        return f\"http://cdn.akamai.steamstatic.com/steam/apps/{self.steamId}\" \\\n",
    "               f\"/header{aug}.jpg?t={arrow.utcnow().timestamp}\"\n",
    "\n",
    "    def __str__(self):\n",
    "        txt = self.name.replace(\"\\n\", \"\\\\n\")\n",
    "        return f\"{self.steamId} - {txt} - {self.promoType} deal started \" \\\n",
    "               f\"{self.promoStart.humanize()} and ends {self.promoEnd.humanize()}\"\n",
    "\n",
    "    def __hash__(self):\n",
    "        return hash((self.steamId, self.promoType,\n",
    "                     self.promoStart, self.promoEnd))\n",
    "\n",
    "    def __eq__(self, other):\n",
    "        if not isinstance(other, steamItem):\n",
    "            return False\n",
    "\n",
    "        return (self.steamId == other.steamId) and \\\n",
    "               (self.promoType == other.promoType) and \\\n",
    "               (self.promoStart == other.promoStart) and \\\n",
    "               (self.promoEnd == other.promoEnd)\n",
    "\n",
    "    def embed(self):\n",
    "        gameData = self.getAppInfo()\n",
    "\n",
    "        title = \"Free Game!\"\n",
    "        desc = self.name\n",
    "\n",
    "        if gameData[\"success\"]:\n",
    "            title = self.name\n",
    "            desc = gameData[\"data\"][\"short_description\"]\n",
    "\n",
    "        embed = discord.Embed(title=title, description=desc,\n",
    "                              url=self.getApp(), color=0x1b2838,\n",
    "                              timestamp=arrow.utcnow().datetime)\n",
    "\n",
    "        embed.set_thumbnail(url=\"https://steamcommunity-a.akamaihd.net/public/shared/images/header/\"\n",
    "                                f\"globalheader_logo.png?t={arrow.utcnow().timestamp}\")\n",
    "\n",
    "        embed.set_image(url=self.getImgUrl())\n",
    "\n",
    "        if gameData[\"success\"]:\n",
    "            embed.add_field(name=\"**Normally priced at**\",\n",
    "                            value=gameData[\"data\"][\"price_overview\"][\"initial_formatted\"], inline=True)\n",
    "        embed.set_author(name=\"SteamDB\", icon_url=\"https://steamdb.info/static/logos/512px.png\",\n",
    "                         url=f\"https://steamdb.info{self.databaseUrl}\")\n",
    "\n",
    "        embed.add_field(name=\"**Promotion Started**\", value=self.promoStart.humanize(), inline=True)\n",
    "        embed.add_field(name=\"**Promotion ends**\", value=self.promoEnd.humanize(), inline=True)\n",
    "\n",
    "        return embed\n",
    "\n"
   ]
  },
  {
   "cell_type": "code",
   "execution_count": 64,
   "metadata": {},
   "outputs": [
    {
     "name": "stdout",
     "output_type": "stream",
     "text": [
      "Collecting cloudscraper"
     ]
    },
    {
     "name": "stderr",
     "output_type": "stream",
     "text": [
      "WARNING: You are using pip version 20.1; however, version 20.1.1 is available.\n",
      "You should consider upgrading via the 'c:\\users\\zivno\\appdata\\local\\programs\\python\\python38\\python.exe -m pip install --upgrade pip' command.\n"
     ]
    },
    {
     "name": "stdout",
     "output_type": "stream",
     "text": [
      "\n",
      "  Downloading cloudscraper-1.2.40-py2.py3-none-any.whl (110 kB)\n",
      "Collecting requests-toolbelt>=0.9.1\n",
      "  Downloading requests_toolbelt-0.9.1-py2.py3-none-any.whl (54 kB)\n",
      "Requirement already satisfied: requests>=2.9.2 in c:\\users\\zivno\\appdata\\local\\programs\\python\\python38\\lib\\site-packages (from cloudscraper) (2.23.0)\n",
      "Requirement already satisfied: pyparsing>=2.4.7 in c:\\users\\zivno\\appdata\\local\\programs\\python\\python38\\lib\\site-packages (from cloudscraper) (2.4.7)\n",
      "Requirement already satisfied: certifi>=2017.4.17 in c:\\users\\zivno\\appdata\\local\\programs\\python\\python38\\lib\\site-packages (from requests>=2.9.2->cloudscraper) (2020.4.5.1)\n",
      "Requirement already satisfied: urllib3!=1.25.0,!=1.25.1,<1.26,>=1.21.1 in c:\\users\\zivno\\appdata\\local\\programs\\python\\python38\\lib\\site-packages (from requests>=2.9.2->cloudscraper) (1.25.9)\n",
      "Requirement already satisfied: idna<3,>=2.5 in c:\\users\\zivno\\appdata\\local\\programs\\python\\python38\\lib\\site-packages (from requests>=2.9.2->cloudscraper) (2.9)\n",
      "Requirement already satisfied: chardet<4,>=3.0.2 in c:\\users\\zivno\\appdata\\local\\programs\\python\\python38\\lib\\site-packages (from requests>=2.9.2->cloudscraper) (3.0.4)\n",
      "Installing collected packages: requests-toolbelt, cloudscraper\n",
      "Successfully installed cloudscraper-1.2.40 requests-toolbelt-0.9.1\n"
     ]
    }
   ],
   "source": [
    "!pip install cloudscraper"
   ]
  },
  {
   "cell_type": "code",
   "execution_count": 67,
   "metadata": {},
   "outputs": [],
   "source": [
    "import cloudscraper\n",
    "\n",
    "scraper = cloudscraper.create_scraper()  # returns a CloudScraper instance\n",
    "# Or: scraper = cloudscraper.CloudScraper()  # CloudScraper inherits from requests.Session\n",
    "a=scraper.get(\"https://steamdb.info/upcoming/free/\")\n",
    "a"
   ]
  },
  {
   "cell_type": "code",
   "execution_count": 85,
   "metadata": {},
   "outputs": [],
   "source": [
    "from bs4 import BeautifulSoup\n",
    "import arrow"
   ]
  },
  {
   "cell_type": "code",
   "execution_count": 80,
   "metadata": {},
   "outputs": [],
   "source": [
    "s = BeautifulSoup(a.content, 'html.parser')"
   ]
  },
  {
   "cell_type": "code",
   "execution_count": 82,
   "metadata": {},
   "outputs": [],
   "source": [
    "table = s.find(\"tbody\")\n",
    "elements = table.findAll(\"tr\")\n",
    "available = list()"
   ]
  },
  {
   "cell_type": "code",
   "execution_count": 88,
   "metadata": {},
   "outputs": [],
   "source": [
    "for i in elements:\n",
    "    steamid = i.attrs[\"data-appid\"]\n",
    "    dbloc = i.findAll(\"a\")[1].attrs[\"href\"]\n",
    "    tablePart = i.findAll(\"td\")\n",
    "    name = tablePart[1].text.replace(\"\\n\\n\", \"\")\n",
    "    promoType = tablePart[3].text.strip(\" \").lower()\n",
    "    start = tablePart[4].attrs[\"data-sort\"]\n",
    "    end = tablePart[5].attrs[\"data-sort\"]\n",
    "    start = arrow.get(start, \"X\")\n",
    "    end = arrow.get(end, \"X\")\n",
    "    r = steamItem(name, steamid, promoType, start, end, dbloc)\n",
    "\n",
    "    available.append(r)"
   ]
  },
  {
   "cell_type": "code",
   "execution_count": 90,
   "metadata": {},
   "outputs": [
    {
     "data": {
      "text/plain": [
       "['Tennis World Tour - DLC 11 - Garcia',\n",
       " 'Tennis World Tour - DLC 14 - Shapovalov',\n",
       " 'Tennis World Tour - DLC 13 - De Minaur',\n",
       " 'Tennis World Tour - DLC 14 - Shapovalov',\n",
       " 'Tennis World Tour - DLC 11 - Garcia',\n",
       " 'Injustice: Gods Among Us Ultimate Edition',\n",
       " 'Injustice: Gods Among Us Ultimate Edition']"
      ]
     },
     "execution_count": 90,
     "metadata": {},
     "output_type": "execute_result"
    }
   ],
   "source": [
    "[i.name for i in available if i.promoType == \"keep\"]"
   ]
  },
  {
   "cell_type": "code",
   "execution_count": null,
   "metadata": {},
   "outputs": [],
   "source": []
  }
 ],
 "metadata": {
  "kernelspec": {
   "display_name": "Python 3",
   "language": "python",
   "name": "python3"
  },
  "language_info": {
   "codemirror_mode": {
    "name": "ipython",
    "version": 3
   },
   "file_extension": ".py",
   "mimetype": "text/x-python",
   "name": "python",
   "nbconvert_exporter": "python",
   "pygments_lexer": "ipython3",
   "version": "3.8.0"
  }
 },
 "nbformat": 4,
 "nbformat_minor": 4
}
