{
 "cells": [
  {
   "cell_type": "code",
   "execution_count": 200,
   "metadata": {},
   "outputs": [],
   "source": [
    "url = \"https://scoresaber.com/u/76561198158987204/\" #&page=2"
   ]
  },
  {
   "cell_type": "code",
   "execution_count": 184,
   "metadata": {},
   "outputs": [],
   "source": [
    "import requests\n",
    "t"
   ]
  },
  {
   "cell_type": "code",
   "execution_count": 201,
   "metadata": {},
   "outputs": [],
   "source": [
    "page = requests.get(url)\n",
    "soup = BeautifulSoup(page.content, 'html.parser')"
   ]
  },
  {
   "cell_type": "code",
   "execution_count": 202,
   "metadata": {},
   "outputs": [],
   "source": [
    "table = soup.find(\"tbody\")\n",
    "elements = table.findAll(\"tr\")"
   ]
  },
  {
   "cell_type": "code",
   "execution_count": 203,
   "metadata": {},
   "outputs": [
    {
     "data": {
      "text/plain": [
       "'Kurokotei - Galaxy Collapse '"
      ]
     },
     "execution_count": 203,
     "metadata": {},
     "output_type": "execute_result"
    }
   ],
   "source": [
    "str(elements[0].findAll(\"span\")[0].find(text=True))"
   ]
  },
  {
   "cell_type": "code",
   "execution_count": 204,
   "metadata": {},
   "outputs": [
    {
     "data": {
      "text/plain": [
       "['Kurokotei - Galaxy Collapse Hard',\n",
       " 'Hard',\n",
       " 'Skeelie',\n",
       " '18 hours ago',\n",
       " '173.10',\n",
       " 'pp',\n",
       " '(173.10pp)',\n",
       " 'pp',\n",
       " 'accuracy: 83.96%']"
      ]
     },
     "execution_count": 204,
     "metadata": {},
     "output_type": "execute_result"
    }
   ],
   "source": [
    "[i.text for i in elements[0].findAll(\"span\")]"
   ]
  },
  {
   "cell_type": "code",
   "execution_count": 189,
   "metadata": {},
   "outputs": [],
   "source": [
    "import pandas as pd\n",
    "from time import sleep"
   ]
  },
  {
   "cell_type": "code",
   "execution_count": 190,
   "metadata": {},
   "outputs": [],
   "source": [
    "df = pd.DataFrame(columns=[\"map\", \"diff\", \"mapper\", \"acc\"])"
   ]
  },
  {
   "cell_type": "code",
   "execution_count": 191,
   "metadata": {},
   "outputs": [
    {
     "data": {
      "text/html": [
       "<div>\n",
       "<style scoped>\n",
       "    .dataframe tbody tr th:only-of-type {\n",
       "        vertical-align: middle;\n",
       "    }\n",
       "\n",
       "    .dataframe tbody tr th {\n",
       "        vertical-align: top;\n",
       "    }\n",
       "\n",
       "    .dataframe thead th {\n",
       "        text-align: right;\n",
       "    }\n",
       "</style>\n",
       "<table border=\"1\" class=\"dataframe\">\n",
       "  <thead>\n",
       "    <tr style=\"text-align: right;\">\n",
       "      <th></th>\n",
       "      <th>map</th>\n",
       "      <th>diff</th>\n",
       "      <th>mapper</th>\n",
       "      <th>acc</th>\n",
       "    </tr>\n",
       "  </thead>\n",
       "  <tbody>\n",
       "    <tr>\n",
       "      <th>0</th>\n",
       "      <td>1</td>\n",
       "      <td>2</td>\n",
       "      <td>3</td>\n",
       "      <td>4</td>\n",
       "    </tr>\n",
       "  </tbody>\n",
       "</table>\n",
       "</div>"
      ],
      "text/plain": [
       "  map diff mapper acc\n",
       "0   1    2      3   4"
      ]
     },
     "execution_count": 191,
     "metadata": {},
     "output_type": "execute_result"
    }
   ],
   "source": [
    "df.loc[len(df)]=[1,2,3,4]\n",
    "df"
   ]
  },
  {
   "cell_type": "code",
   "execution_count": 192,
   "metadata": {},
   "outputs": [
    {
     "data": {
      "text/plain": [
       "35"
      ]
     },
     "execution_count": 192,
     "metadata": {},
     "output_type": "execute_result"
    }
   ],
   "source": [
    "int(soup.findAll(\"li\")[-1].text[1:-1])"
   ]
  },
  {
   "cell_type": "code",
   "execution_count": 212,
   "metadata": {},
   "outputs": [
    {
     "name": "stderr",
     "output_type": "stream",
     "text": [
      " 14%|███████████▌                                                                       | 5/36 [00:06<00:42,  1.36s/it]"
     ]
    },
    {
     "name": "stdout",
     "output_type": "stream",
     "text": [
      "['[email\\xa0protected] - For UltraPlayers Expert', '[email\\xa0protected]', 'Expert', 'Mystikmol & Loloppe', '17 hours ago', '93.62', 'pp', '(26.90pp)', 'pp', 'accuracy: 75.96%']\n"
     ]
    },
    {
     "name": "stderr",
     "output_type": "stream",
     "text": [
      " 22%|██████████████████▍                                                                | 8/36 [00:10<00:36,  1.29s/it]"
     ]
    },
    {
     "name": "stdout",
     "output_type": "stream",
     "text": [
      "['[email\\xa0protected] - For UltraPlayers Hard', '[email\\xa0protected]', 'Hard', 'Mystikmol & Loloppe', '17 hours ago', '74.22', 'pp', '(8.45pp)', 'pp', 'accuracy: 83.14%']\n"
     ]
    },
    {
     "name": "stderr",
     "output_type": "stream",
     "text": [
      " 47%|██████████████████████████████████████▋                                           | 17/36 [00:24<00:27,  1.46s/it]\n"
     ]
    },
    {
     "data": {
      "text/html": [
       "<div>\n",
       "<style scoped>\n",
       "    .dataframe tbody tr th:only-of-type {\n",
       "        vertical-align: middle;\n",
       "    }\n",
       "\n",
       "    .dataframe tbody tr th {\n",
       "        vertical-align: top;\n",
       "    }\n",
       "\n",
       "    .dataframe thead th {\n",
       "        text-align: right;\n",
       "    }\n",
       "</style>\n",
       "<table border=\"1\" class=\"dataframe\">\n",
       "  <thead>\n",
       "    <tr style=\"text-align: right;\">\n",
       "      <th></th>\n",
       "      <th>map</th>\n",
       "      <th>diff</th>\n",
       "      <th>mapper</th>\n",
       "      <th>acc</th>\n",
       "      <th>mods</th>\n",
       "    </tr>\n",
       "  </thead>\n",
       "  <tbody>\n",
       "    <tr>\n",
       "      <th>0</th>\n",
       "      <td>Kurokotei - Galaxy Collapse</td>\n",
       "      <td>Hard</td>\n",
       "      <td>Skeelie</td>\n",
       "      <td>83.96</td>\n",
       "      <td></td>\n",
       "    </tr>\n",
       "    <tr>\n",
       "      <th>1</th>\n",
       "      <td>Darude - Sandstorm</td>\n",
       "      <td>Expert</td>\n",
       "      <td>Skyler Wallace</td>\n",
       "      <td>90.54</td>\n",
       "      <td></td>\n",
       "    </tr>\n",
       "    <tr>\n",
       "      <th>2</th>\n",
       "      <td>t+pazolite - Renegade Fruits</td>\n",
       "      <td>Normal</td>\n",
       "      <td>Vilawes &amp; Oddloop</td>\n",
       "      <td>86.44</td>\n",
       "      <td></td>\n",
       "    </tr>\n",
       "    <tr>\n",
       "      <th>3</th>\n",
       "      <td>Luis Fonsi ft. Daddy Yankee/S3RL/DaymanOurSavi...</td>\n",
       "      <td>Expert+</td>\n",
       "      <td>Psyc0pathic &amp; Hexagonial</td>\n",
       "      <td>78.34</td>\n",
       "      <td></td>\n",
       "    </tr>\n",
       "    <tr>\n",
       "      <th>4</th>\n",
       "      <td>KNOWER - The Government Knows</td>\n",
       "      <td>Expert+</td>\n",
       "      <td>Ramen Noodle</td>\n",
       "      <td>77.13</td>\n",
       "      <td></td>\n",
       "    </tr>\n",
       "    <tr>\n",
       "      <th>...</th>\n",
       "      <td>...</td>\n",
       "      <td>...</td>\n",
       "      <td>...</td>\n",
       "      <td>...</td>\n",
       "      <td>...</td>\n",
       "    </tr>\n",
       "    <tr>\n",
       "      <th>137</th>\n",
       "      <td>C-Show vs. DJ Genki - BLACK LABEL</td>\n",
       "      <td>Expert+</td>\n",
       "      <td>Yun0</td>\n",
       "      <td>7.46</td>\n",
       "      <td>NF</td>\n",
       "    </tr>\n",
       "    <tr>\n",
       "      <th>138</th>\n",
       "      <td>Zeami - Saint's Beat</td>\n",
       "      <td>Expert+</td>\n",
       "      <td>ejiejidayo</td>\n",
       "      <td>6.95</td>\n",
       "      <td>NF</td>\n",
       "    </tr>\n",
       "    <tr>\n",
       "      <th>139</th>\n",
       "      <td>Memme - Avalanche</td>\n",
       "      <td>Expert+</td>\n",
       "      <td>Zorowo</td>\n",
       "      <td>6.69</td>\n",
       "      <td>NF</td>\n",
       "    </tr>\n",
       "    <tr>\n",
       "      <th>140</th>\n",
       "      <td>Akira Complex - Ether Strike</td>\n",
       "      <td>Expert+</td>\n",
       "      <td>Various Mappers</td>\n",
       "      <td>7.88</td>\n",
       "      <td>NF</td>\n",
       "    </tr>\n",
       "    <tr>\n",
       "      <th>141</th>\n",
       "      <td>- ParagonX9 - Infiltration</td>\n",
       "      <td>Expert+</td>\n",
       "      <td>jackscape</td>\n",
       "      <td>6.11</td>\n",
       "      <td>NF</td>\n",
       "    </tr>\n",
       "  </tbody>\n",
       "</table>\n",
       "<p>142 rows × 5 columns</p>\n",
       "</div>"
      ],
      "text/plain": [
       "                                                   map     diff  \\\n",
       "0                         Kurokotei - Galaxy Collapse      Hard   \n",
       "1                                  Darude - Sandstorm    Expert   \n",
       "2                        t+pazolite - Renegade Fruits    Normal   \n",
       "3    Luis Fonsi ft. Daddy Yankee/S3RL/DaymanOurSavi...  Expert+   \n",
       "4                       KNOWER - The Government Knows   Expert+   \n",
       "..                                                 ...      ...   \n",
       "137                 C-Show vs. DJ Genki - BLACK LABEL   Expert+   \n",
       "138                              Zeami - Saint's Beat   Expert+   \n",
       "139                                 Memme - Avalanche   Expert+   \n",
       "140                      Akira Complex - Ether Strike   Expert+   \n",
       "141                        - ParagonX9 - Infiltration   Expert+   \n",
       "\n",
       "                       mapper    acc mods  \n",
       "0                     Skeelie  83.96       \n",
       "1              Skyler Wallace  90.54       \n",
       "2           Vilawes & Oddloop  86.44       \n",
       "3    Psyc0pathic & Hexagonial  78.34       \n",
       "4                Ramen Noodle  77.13       \n",
       "..                        ...    ...  ...  \n",
       "137                      Yun0   7.46   NF  \n",
       "138                ejiejidayo   6.95   NF  \n",
       "139                    Zorowo   6.69   NF  \n",
       "140           Various Mappers   7.88   NF  \n",
       "141                 jackscape   6.11   NF  \n",
       "\n",
       "[142 rows x 5 columns]"
      ]
     },
     "execution_count": 212,
     "metadata": {},
     "output_type": "execute_result"
    }
   ],
   "source": [
    "def paresePage(url):\n",
    "    page = requests.get(url)\n",
    "    return BeautifulSoup(page.content, 'html.parser')\n",
    "\n",
    "acc = re.compile(r\"\\d+\\.\\d+\")\n",
    "mods = re.compile(r\"\\((.+)\\)\")\n",
    "df = pd.DataFrame(columns=[\"map\", \"diff\", \"mapper\", \"acc\",\"mods\"])\n",
    "url = \"https://scoresaber.com/u/76561198158987204/\"\n",
    "pages = int(paresePage(url).findAll(\"li\")[-1].text[1:-1])\n",
    "stop=False\n",
    "for i in tqdm(range(1,pages+1)):\n",
    "    sleep(.3)\n",
    "    soup = paresePage(url+\"&page=\"+str(i)+\"&sort=1\")\n",
    "    table = soup.find(\"tbody\")\n",
    "    elements = table.findAll(\"tr\")\n",
    "    for j in elements:\n",
    "        parts = [i.text for i in j.findAll(\"span\")]\n",
    "        alter = 0\n",
    "        try:\n",
    "            float(parts[4])\n",
    "        except:\n",
    "            alter=1\n",
    "            print(parts)\n",
    "        pp=float(parts[4+alter])\n",
    "        mod = mods.search(parts[8+alter])\n",
    "        mod = \"\" if mod is None else mod.group(1)\n",
    "        if pp!=0:\n",
    "            df.loc[len(df)]=  [j.findAll(\"span\")[0].find(text=True),parts[1+alter],parts[2+alter],float(acc.search(parts[8+alter][10:]).group()), mod]\n",
    "        else:\n",
    "            stop=True\n",
    "            break\n",
    "    if stop:\n",
    "        break\n",
    "df"
   ]
  },
  {
   "cell_type": "code",
   "execution_count": 194,
   "metadata": {},
   "outputs": [
    {
     "data": {
      "text/plain": [
       "'NF,SS'"
      ]
     },
     "execution_count": 194,
     "metadata": {},
     "output_type": "execute_result"
    }
   ],
   "source": [
    "import re\n",
    "acc = re.compile(r\"\\((.+)\\)\")\n",
    "acc.search(\"35.25% (NF,SS)\").group(1)"
   ]
  },
  {
   "cell_type": "code",
   "execution_count": 195,
   "metadata": {},
   "outputs": [
    {
     "name": "stderr",
     "output_type": "stream",
     "text": [
      "100%|█████████████████████████████████████████████████████████████████████████████████| 10/10 [00:00<00:00, 370.07it/s]"
     ]
    },
    {
     "name": "stdout",
     "output_type": "stream",
     "text": [
      "0\n",
      "1\n",
      "2\n",
      "3\n",
      "4\n",
      "5\n",
      "6\n",
      "7\n",
      "8\n",
      "9\n"
     ]
    },
    {
     "name": "stderr",
     "output_type": "stream",
     "text": [
      "\n"
     ]
    }
   ],
   "source": [
    "from tqdm import tqdm\n",
    "for i in tqdm(range(10)):\n",
    "    print(i)\n",
    "    sleep(.002)"
   ]
  },
  {
   "cell_type": "code",
   "execution_count": 213,
   "metadata": {},
   "outputs": [
    {
     "data": {
      "text/html": [
       "<div>\n",
       "<style scoped>\n",
       "    .dataframe tbody tr th:only-of-type {\n",
       "        vertical-align: middle;\n",
       "    }\n",
       "\n",
       "    .dataframe tbody tr th {\n",
       "        vertical-align: top;\n",
       "    }\n",
       "\n",
       "    .dataframe thead th {\n",
       "        text-align: right;\n",
       "    }\n",
       "</style>\n",
       "<table border=\"1\" class=\"dataframe\">\n",
       "  <thead>\n",
       "    <tr style=\"text-align: right;\">\n",
       "      <th></th>\n",
       "      <th>map</th>\n",
       "      <th>diff</th>\n",
       "      <th>mapper</th>\n",
       "      <th>acc</th>\n",
       "      <th>mods</th>\n",
       "    </tr>\n",
       "  </thead>\n",
       "  <tbody>\n",
       "    <tr>\n",
       "      <th>141</th>\n",
       "      <td>- ParagonX9 - Infiltration</td>\n",
       "      <td>Expert+</td>\n",
       "      <td>jackscape</td>\n",
       "      <td>6.11</td>\n",
       "      <td>NF</td>\n",
       "    </tr>\n",
       "    <tr>\n",
       "      <th>139</th>\n",
       "      <td>Memme - Avalanche</td>\n",
       "      <td>Expert+</td>\n",
       "      <td>Zorowo</td>\n",
       "      <td>6.69</td>\n",
       "      <td>NF</td>\n",
       "    </tr>\n",
       "    <tr>\n",
       "      <th>134</th>\n",
       "      <td>PSYQUI - Hype feat. Such</td>\n",
       "      <td>Expert+</td>\n",
       "      <td>iraky</td>\n",
       "      <td>6.94</td>\n",
       "      <td>NF</td>\n",
       "    </tr>\n",
       "    <tr>\n",
       "      <th>138</th>\n",
       "      <td>Zeami - Saint's Beat</td>\n",
       "      <td>Expert+</td>\n",
       "      <td>ejiejidayo</td>\n",
       "      <td>6.95</td>\n",
       "      <td>NF</td>\n",
       "    </tr>\n",
       "    <tr>\n",
       "      <th>137</th>\n",
       "      <td>C-Show vs. DJ Genki - BLACK LABEL</td>\n",
       "      <td>Expert+</td>\n",
       "      <td>Yun0</td>\n",
       "      <td>7.46</td>\n",
       "      <td>NF</td>\n",
       "    </tr>\n",
       "    <tr>\n",
       "      <th>...</th>\n",
       "      <td>...</td>\n",
       "      <td>...</td>\n",
       "      <td>...</td>\n",
       "      <td>...</td>\n",
       "      <td>...</td>\n",
       "    </tr>\n",
       "    <tr>\n",
       "      <th>129</th>\n",
       "      <td>Toby Fox - Dogbass</td>\n",
       "      <td>Expert</td>\n",
       "      <td>Halcyon12</td>\n",
       "      <td>93.14</td>\n",
       "      <td></td>\n",
       "    </tr>\n",
       "    <tr>\n",
       "      <th>116</th>\n",
       "      <td>XI&amp;R3 Music Box - Freedom Dive Music Box</td>\n",
       "      <td>Expert</td>\n",
       "      <td>carrot</td>\n",
       "      <td>93.22</td>\n",
       "      <td></td>\n",
       "    </tr>\n",
       "    <tr>\n",
       "      <th>99</th>\n",
       "      <td>Parry Gripp - Guinea Pig Bridge</td>\n",
       "      <td>Expert</td>\n",
       "      <td>ExtraCheesy</td>\n",
       "      <td>93.45</td>\n",
       "      <td></td>\n",
       "    </tr>\n",
       "    <tr>\n",
       "      <th>67</th>\n",
       "      <td>Junghwan Park - The Merchant Guild</td>\n",
       "      <td>Hard</td>\n",
       "      <td>Bakuenjin</td>\n",
       "      <td>94.02</td>\n",
       "      <td></td>\n",
       "    </tr>\n",
       "    <tr>\n",
       "      <th>132</th>\n",
       "      <td>Deathpact - Delightful Introduction</td>\n",
       "      <td>Hard</td>\n",
       "      <td>xScaramouche</td>\n",
       "      <td>95.12</td>\n",
       "      <td></td>\n",
       "    </tr>\n",
       "  </tbody>\n",
       "</table>\n",
       "<p>142 rows × 5 columns</p>\n",
       "</div>"
      ],
      "text/plain": [
       "                                           map     diff        mapper    acc  \\\n",
       "141                - ParagonX9 - Infiltration   Expert+     jackscape   6.11   \n",
       "139                         Memme - Avalanche   Expert+        Zorowo   6.69   \n",
       "134                  PSYQUI - Hype feat. Such   Expert+         iraky   6.94   \n",
       "138                      Zeami - Saint's Beat   Expert+    ejiejidayo   6.95   \n",
       "137         C-Show vs. DJ Genki - BLACK LABEL   Expert+          Yun0   7.46   \n",
       "..                                         ...      ...           ...    ...   \n",
       "129                        Toby Fox - Dogbass    Expert     Halcyon12  93.14   \n",
       "116  XI&R3 Music Box - Freedom Dive Music Box    Expert        carrot  93.22   \n",
       "99            Parry Gripp - Guinea Pig Bridge    Expert   ExtraCheesy  93.45   \n",
       "67         Junghwan Park - The Merchant Guild      Hard     Bakuenjin  94.02   \n",
       "132       Deathpact - Delightful Introduction      Hard  xScaramouche  95.12   \n",
       "\n",
       "    mods  \n",
       "141   NF  \n",
       "139   NF  \n",
       "134   NF  \n",
       "138   NF  \n",
       "137   NF  \n",
       "..   ...  \n",
       "129       \n",
       "116       \n",
       "99        \n",
       "67        \n",
       "132       \n",
       "\n",
       "[142 rows x 5 columns]"
      ]
     },
     "execution_count": 213,
     "metadata": {},
     "output_type": "execute_result"
    }
   ],
   "source": [
    "df.sort_values(by=[\"acc\"])"
   ]
  },
  {
   "cell_type": "code",
   "execution_count": 214,
   "metadata": {},
   "outputs": [
    {
     "data": {
      "text/plain": [
       "75.91676056338027"
      ]
     },
     "execution_count": 214,
     "metadata": {},
     "output_type": "execute_result"
    }
   ],
   "source": [
    "df.acc.mean()"
   ]
  },
  {
   "cell_type": "code",
   "execution_count": 215,
   "metadata": {},
   "outputs": [
    {
     "data": {
      "text/html": [
       "<div>\n",
       "<style scoped>\n",
       "    .dataframe tbody tr th:only-of-type {\n",
       "        vertical-align: middle;\n",
       "    }\n",
       "\n",
       "    .dataframe tbody tr th {\n",
       "        vertical-align: top;\n",
       "    }\n",
       "\n",
       "    .dataframe thead th {\n",
       "        text-align: right;\n",
       "    }\n",
       "</style>\n",
       "<table border=\"1\" class=\"dataframe\">\n",
       "  <thead>\n",
       "    <tr style=\"text-align: right;\">\n",
       "      <th></th>\n",
       "      <th>map</th>\n",
       "      <th>diff</th>\n",
       "      <th>mapper</th>\n",
       "      <th>acc</th>\n",
       "      <th>mods</th>\n",
       "    </tr>\n",
       "  </thead>\n",
       "  <tbody>\n",
       "    <tr>\n",
       "      <th>133</th>\n",
       "      <td>Reol - Monster</td>\n",
       "      <td>Expert+</td>\n",
       "      <td>Saut &amp; ManDynasty</td>\n",
       "      <td>8.08</td>\n",
       "      <td>NF</td>\n",
       "    </tr>\n",
       "    <tr>\n",
       "      <th>134</th>\n",
       "      <td>PSYQUI - Hype feat. Such</td>\n",
       "      <td>Expert+</td>\n",
       "      <td>iraky</td>\n",
       "      <td>6.94</td>\n",
       "      <td>NF</td>\n",
       "    </tr>\n",
       "    <tr>\n",
       "      <th>135</th>\n",
       "      <td>Umziky - Bass Music</td>\n",
       "      <td>Expert+</td>\n",
       "      <td>Skeelie</td>\n",
       "      <td>10.38</td>\n",
       "      <td>NF</td>\n",
       "    </tr>\n",
       "    <tr>\n",
       "      <th>136</th>\n",
       "      <td>M2U - Magnetism</td>\n",
       "      <td>Expert+</td>\n",
       "      <td>squeaksies</td>\n",
       "      <td>7.98</td>\n",
       "      <td>NF</td>\n",
       "    </tr>\n",
       "    <tr>\n",
       "      <th>137</th>\n",
       "      <td>C-Show vs. DJ Genki - BLACK LABEL</td>\n",
       "      <td>Expert+</td>\n",
       "      <td>Yun0</td>\n",
       "      <td>7.46</td>\n",
       "      <td>NF</td>\n",
       "    </tr>\n",
       "    <tr>\n",
       "      <th>138</th>\n",
       "      <td>Zeami - Saint's Beat</td>\n",
       "      <td>Expert+</td>\n",
       "      <td>ejiejidayo</td>\n",
       "      <td>6.95</td>\n",
       "      <td>NF</td>\n",
       "    </tr>\n",
       "    <tr>\n",
       "      <th>139</th>\n",
       "      <td>Memme - Avalanche</td>\n",
       "      <td>Expert+</td>\n",
       "      <td>Zorowo</td>\n",
       "      <td>6.69</td>\n",
       "      <td>NF</td>\n",
       "    </tr>\n",
       "    <tr>\n",
       "      <th>140</th>\n",
       "      <td>Akira Complex - Ether Strike</td>\n",
       "      <td>Expert+</td>\n",
       "      <td>Various Mappers</td>\n",
       "      <td>7.88</td>\n",
       "      <td>NF</td>\n",
       "    </tr>\n",
       "    <tr>\n",
       "      <th>141</th>\n",
       "      <td>- ParagonX9 - Infiltration</td>\n",
       "      <td>Expert+</td>\n",
       "      <td>jackscape</td>\n",
       "      <td>6.11</td>\n",
       "      <td>NF</td>\n",
       "    </tr>\n",
       "  </tbody>\n",
       "</table>\n",
       "</div>"
      ],
      "text/plain": [
       "                                    map     diff             mapper    acc  \\\n",
       "133                     Reol - Monster   Expert+  Saut & ManDynasty   8.08   \n",
       "134           PSYQUI - Hype feat. Such   Expert+              iraky   6.94   \n",
       "135                Umziky - Bass Music   Expert+            Skeelie  10.38   \n",
       "136                    M2U - Magnetism   Expert+         squeaksies   7.98   \n",
       "137  C-Show vs. DJ Genki - BLACK LABEL   Expert+               Yun0   7.46   \n",
       "138               Zeami - Saint's Beat   Expert+         ejiejidayo   6.95   \n",
       "139                  Memme - Avalanche   Expert+             Zorowo   6.69   \n",
       "140       Akira Complex - Ether Strike   Expert+    Various Mappers   7.88   \n",
       "141         - ParagonX9 - Infiltration   Expert+          jackscape   6.11   \n",
       "\n",
       "    mods  \n",
       "133   NF  \n",
       "134   NF  \n",
       "135   NF  \n",
       "136   NF  \n",
       "137   NF  \n",
       "138   NF  \n",
       "139   NF  \n",
       "140   NF  \n",
       "141   NF  "
      ]
     },
     "execution_count": 215,
     "metadata": {},
     "output_type": "execute_result"
    }
   ],
   "source": [
    "df[df.acc<50]"
   ]
  },
  {
   "cell_type": "code",
   "execution_count": 216,
   "metadata": {},
   "outputs": [
    {
     "data": {
      "text/html": [
       "<div>\n",
       "<style scoped>\n",
       "    .dataframe tbody tr th:only-of-type {\n",
       "        vertical-align: middle;\n",
       "    }\n",
       "\n",
       "    .dataframe tbody tr th {\n",
       "        vertical-align: top;\n",
       "    }\n",
       "\n",
       "    .dataframe thead th {\n",
       "        text-align: right;\n",
       "    }\n",
       "</style>\n",
       "<table border=\"1\" class=\"dataframe\">\n",
       "  <thead>\n",
       "    <tr style=\"text-align: right;\">\n",
       "      <th></th>\n",
       "      <th>map</th>\n",
       "      <th>diff</th>\n",
       "      <th>mapper</th>\n",
       "      <th>acc</th>\n",
       "      <th>mods</th>\n",
       "    </tr>\n",
       "  </thead>\n",
       "  <tbody>\n",
       "    <tr>\n",
       "      <th>121</th>\n",
       "      <td>dj TAKA - V for EXTREME</td>\n",
       "      <td>Expert+</td>\n",
       "      <td>Zeekin</td>\n",
       "      <td>81.26</td>\n",
       "      <td>SS</td>\n",
       "    </tr>\n",
       "    <tr>\n",
       "      <th>127</th>\n",
       "      <td>C.P.E. Bach - Solfeggietto</td>\n",
       "      <td>Expert+</td>\n",
       "      <td>Ruckus</td>\n",
       "      <td>71.33</td>\n",
       "      <td>SS</td>\n",
       "    </tr>\n",
       "    <tr>\n",
       "      <th>128</th>\n",
       "      <td>Ultra Vomit - Le Train Fantome</td>\n",
       "      <td>Expert</td>\n",
       "      <td>Vilawes</td>\n",
       "      <td>75.35</td>\n",
       "      <td>NF</td>\n",
       "    </tr>\n",
       "    <tr>\n",
       "      <th>133</th>\n",
       "      <td>Reol - Monster</td>\n",
       "      <td>Expert+</td>\n",
       "      <td>Saut &amp; ManDynasty</td>\n",
       "      <td>8.08</td>\n",
       "      <td>NF</td>\n",
       "    </tr>\n",
       "    <tr>\n",
       "      <th>134</th>\n",
       "      <td>PSYQUI - Hype feat. Such</td>\n",
       "      <td>Expert+</td>\n",
       "      <td>iraky</td>\n",
       "      <td>6.94</td>\n",
       "      <td>NF</td>\n",
       "    </tr>\n",
       "    <tr>\n",
       "      <th>135</th>\n",
       "      <td>Umziky - Bass Music</td>\n",
       "      <td>Expert+</td>\n",
       "      <td>Skeelie</td>\n",
       "      <td>10.38</td>\n",
       "      <td>NF</td>\n",
       "    </tr>\n",
       "    <tr>\n",
       "      <th>136</th>\n",
       "      <td>M2U - Magnetism</td>\n",
       "      <td>Expert+</td>\n",
       "      <td>squeaksies</td>\n",
       "      <td>7.98</td>\n",
       "      <td>NF</td>\n",
       "    </tr>\n",
       "    <tr>\n",
       "      <th>137</th>\n",
       "      <td>C-Show vs. DJ Genki - BLACK LABEL</td>\n",
       "      <td>Expert+</td>\n",
       "      <td>Yun0</td>\n",
       "      <td>7.46</td>\n",
       "      <td>NF</td>\n",
       "    </tr>\n",
       "    <tr>\n",
       "      <th>138</th>\n",
       "      <td>Zeami - Saint's Beat</td>\n",
       "      <td>Expert+</td>\n",
       "      <td>ejiejidayo</td>\n",
       "      <td>6.95</td>\n",
       "      <td>NF</td>\n",
       "    </tr>\n",
       "    <tr>\n",
       "      <th>139</th>\n",
       "      <td>Memme - Avalanche</td>\n",
       "      <td>Expert+</td>\n",
       "      <td>Zorowo</td>\n",
       "      <td>6.69</td>\n",
       "      <td>NF</td>\n",
       "    </tr>\n",
       "    <tr>\n",
       "      <th>140</th>\n",
       "      <td>Akira Complex - Ether Strike</td>\n",
       "      <td>Expert+</td>\n",
       "      <td>Various Mappers</td>\n",
       "      <td>7.88</td>\n",
       "      <td>NF</td>\n",
       "    </tr>\n",
       "    <tr>\n",
       "      <th>141</th>\n",
       "      <td>- ParagonX9 - Infiltration</td>\n",
       "      <td>Expert+</td>\n",
       "      <td>jackscape</td>\n",
       "      <td>6.11</td>\n",
       "      <td>NF</td>\n",
       "    </tr>\n",
       "  </tbody>\n",
       "</table>\n",
       "</div>"
      ],
      "text/plain": [
       "                                    map     diff             mapper    acc  \\\n",
       "121            dj TAKA - V for EXTREME   Expert+             Zeekin  81.26   \n",
       "127         C.P.E. Bach - Solfeggietto   Expert+             Ruckus  71.33   \n",
       "128     Ultra Vomit - Le Train Fantome    Expert            Vilawes  75.35   \n",
       "133                     Reol - Monster   Expert+  Saut & ManDynasty   8.08   \n",
       "134           PSYQUI - Hype feat. Such   Expert+              iraky   6.94   \n",
       "135                Umziky - Bass Music   Expert+            Skeelie  10.38   \n",
       "136                    M2U - Magnetism   Expert+         squeaksies   7.98   \n",
       "137  C-Show vs. DJ Genki - BLACK LABEL   Expert+               Yun0   7.46   \n",
       "138               Zeami - Saint's Beat   Expert+         ejiejidayo   6.95   \n",
       "139                  Memme - Avalanche   Expert+             Zorowo   6.69   \n",
       "140       Akira Complex - Ether Strike   Expert+    Various Mappers   7.88   \n",
       "141         - ParagonX9 - Infiltration   Expert+          jackscape   6.11   \n",
       "\n",
       "    mods  \n",
       "121   SS  \n",
       "127   SS  \n",
       "128   NF  \n",
       "133   NF  \n",
       "134   NF  \n",
       "135   NF  \n",
       "136   NF  \n",
       "137   NF  \n",
       "138   NF  \n",
       "139   NF  \n",
       "140   NF  \n",
       "141   NF  "
      ]
     },
     "execution_count": 216,
     "metadata": {},
     "output_type": "execute_result"
    }
   ],
   "source": [
    "df[df.mods!=\"\"]"
   ]
  },
  {
   "cell_type": "code",
   "execution_count": 217,
   "metadata": {},
   "outputs": [
    {
     "data": {
      "text/plain": [
       "9"
      ]
     },
     "execution_count": 217,
     "metadata": {},
     "output_type": "execute_result"
    }
   ],
   "source": [
    "len(df[df.acc<50])"
   ]
  },
  {
   "cell_type": "code",
   "execution_count": null,
   "metadata": {},
   "outputs": [],
   "source": []
  }
 ],
 "metadata": {
  "kernelspec": {
   "display_name": "Python 3",
   "language": "python",
   "name": "python3"
  },
  "language_info": {
   "codemirror_mode": {
    "name": "ipython",
    "version": 3
   },
   "file_extension": ".py",
   "mimetype": "text/x-python",
   "name": "python",
   "nbconvert_exporter": "python",
   "pygments_lexer": "ipython3",
   "version": "3.8.0"
  }
 },
 "nbformat": 4,
 "nbformat_minor": 4
}
