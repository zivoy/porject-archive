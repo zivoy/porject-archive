{
 "cells": [
  {
   "cell_type": "code",
   "execution_count": 1,
   "metadata": {
    "colab": {
     "base_uri": "https://localhost:8080/",
     "height": 34
    },
    "colab_type": "code",
    "id": "GClgPxWDxCev",
    "outputId": "d06d5e4f-cc6a-4f06-cc13-f7f12624ecc1"
   },
   "outputs": [
    {
     "name": "stdout",
     "output_type": "stream",
     "text": [
      "b'MTAwMDA='\n"
     ]
    }
   ],
   "source": [
    "import base64\n",
    "print(base64.urlsafe_b64encode(b\"10000\"))"
   ]
  },
  {
   "cell_type": "code",
   "execution_count": 2,
   "metadata": {
    "colab": {
     "base_uri": "https://localhost:8080/",
     "height": 51
    },
    "colab_type": "code",
    "id": "yWeRHVU-xFbc",
    "outputId": "44476ffe-b3e3-4596-fe9c-a7de7abae409"
   },
   "outputs": [
    {
     "name": "stdout",
     "output_type": "stream",
     "text": [
      "lower limit is 1000 b'MTAwMA==' 8\n",
      "upper limit is 999999 b'OTk5OTk5' 8\n"
     ]
    }
   ],
   "source": [
    "value = 8\n",
    "lower = False\n",
    "upper = False\n",
    "for i in range(0,10000000):\n",
    "    st = base64.urlsafe_b64encode(str(i).encode())\n",
    "    if len(st) >= value and not lower:\n",
    "        print(\"lower limit is\",i,st, len(st))\n",
    "        lower = i\n",
    "    if len(st) > value:\n",
    "        vl = base64.urlsafe_b64encode(str(i-1).encode())\n",
    "        print(\"upper limit is\",i-1, vl, len(vl))\n",
    "        break"
   ]
  },
  {
   "cell_type": "code",
   "execution_count": 3,
   "metadata": {
    "colab": {
     "base_uri": "https://localhost:8080/",
     "height": 34
    },
    "colab_type": "code",
    "id": "16NjwA4Nx64_",
    "outputId": "45d2ce0c-d8f5-44ea-f549-4d9bc437dd58"
   },
   "outputs": [
    {
     "name": "stdout",
     "output_type": "stream",
     "text": [
      "8\n"
     ]
    }
   ],
   "source": [
    "print(len(base64.urlsafe_b64encode(str(1000000-1).encode())))"
   ]
  },
  {
   "cell_type": "code",
   "execution_count": 4,
   "metadata": {
    "colab": {
     "base_uri": "https://localhost:8080/",
     "height": 34
    },
    "colab_type": "code",
    "id": "LSXwSDp7yFFk",
    "outputId": "cc65d128-bc4d-4f75-d7be-37b9e86e5515"
   },
   "outputs": [
    {
     "data": {
      "text/plain": [
       "998999"
      ]
     },
     "execution_count": 4,
     "metadata": {},
     "output_type": "execute_result"
    }
   ],
   "source": [
    "1000000-1 - 1000"
   ]
  },
  {
   "cell_type": "code",
   "execution_count": 5,
   "metadata": {
    "colab": {},
    "colab_type": "code",
    "id": "yOv1YGz11sY9"
   },
   "outputs": [],
   "source": [
    "import random"
   ]
  },
  {
   "cell_type": "code",
   "execution_count": 6,
   "metadata": {
    "colab": {},
    "colab_type": "code",
    "id": "tKxq-khK1w02"
   },
   "outputs": [],
   "source": [
    "import random\n",
    "import base64\n",
    "urls = dict()\n",
    "\n",
    "def getid(url):\n",
    "    val = 0\n",
    "    for i, j in enumerate(url):\n",
    "        val += (i+1)*ord(j)*314159265359\n",
    "    num = int(((val % 10**10) - 1000) / 10**10 * 10**6)+1000\n",
    "    id = base64.urlsafe_b64encode(str(num).encode()).decode()\n",
    "    if id not in urls:\n",
    "        urls[id] = url\n",
    "        return id\n",
    "    elif urls[id] == url:\n",
    "        return id\n",
    "    else:\n",
    "        while True:\n",
    "            num = random.randint(1000, 999999)\n",
    "            id = base64.urlsafe_b64encode(str(num).encode()).decode()\n",
    "            if id not in urls:\n",
    "                urls[id] = url\n",
    "                return id\n",
    "            else:\n",
    "                continue"
   ]
  },
  {
   "cell_type": "code",
   "execution_count": null,
   "metadata": {
    "colab": {},
    "colab_type": "code",
    "id": "dtET3twp20AM"
   },
   "outputs": [],
   "source": []
  },
  {
   "cell_type": "code",
   "execution_count": 16,
   "metadata": {
    "colab": {
     "base_uri": "https://localhost:8080/",
     "height": 68
    },
    "colab_type": "code",
    "id": "lZjAwhrB244t",
    "outputId": "83c1fd5f-3eb6-4394-a1ca-6a50765e1447"
   },
   "outputs": [
    {
     "name": "stdout",
     "output_type": "stream",
     "text": [
      "506424735758708\n",
      "473575\n",
      "b'NDczNTc1'\n"
     ]
    }
   ],
   "source": [
    "url = \"https://hello.com\"#\"https://www.codementor.io/abhishake/minimal-apache-configuration-for-deploying-a-flask-app-ubuntu-18-04-phu50a7ft\"\n",
    "val = 0\n",
    "for i in url:\n",
    "    val += ord(i)*314159265359\n",
    "\n",
    "print(val)\n",
    "frl = int(((val % 10**10) - 1000) / 10**10 * 10**6)\n",
    "print(frl)\n",
    "print(base64.urlsafe_b64encode(str(frl).encode()))     "
   ]
  },
  {
   "cell_type": "code",
   "execution_count": 8,
   "metadata": {
    "colab": {
     "base_uri": "https://localhost:8080/",
     "height": 34
    },
    "colab_type": "code",
    "id": "nzo8SgvE3MJU",
    "outputId": "0513701e-88a0-47d8-90e6-522a6c3dcd07"
   },
   "outputs": [
    {
     "data": {
      "text/plain": [
       "4"
      ]
     },
     "execution_count": 8,
     "metadata": {},
     "output_type": "execute_result"
    }
   ],
   "source": [
    "len(str(10**3))    "
   ]
  },
  {
   "cell_type": "code",
   "execution_count": 15,
   "metadata": {
    "colab": {
     "base_uri": "https://localhost:8080/",
     "height": 34
    },
    "colab_type": "code",
    "id": "yNdboyLVBX84",
    "outputId": "aaa23006-f5cc-4aff-b441-58c2abda3b62"
   },
   "outputs": [
    {
     "data": {
      "text/plain": [
       "'e44fea3bec53bcea3b7513ccef5857ac'"
      ]
     },
     "execution_count": 15,
     "metadata": {},
     "output_type": "execute_result"
    }
   ],
   "source": [
    "hashlib.md5(b'454').hexdigest()"
   ]
  },
  {
   "cell_type": "code",
   "execution_count": 10,
   "metadata": {
    "colab": {},
    "colab_type": "code",
    "id": "x1bfle5hBSsO"
   },
   "outputs": [],
   "source": [
    "import hashlib"
   ]
  },
  {
   "cell_type": "code",
   "execution_count": 11,
   "metadata": {
    "colab": {
     "base_uri": "https://localhost:8080/",
     "height": 34
    },
    "colab_type": "code",
    "id": "CiZ6pSf33097",
    "outputId": "502acc6e-c9b7-4b25-a1d2-155b906af34d"
   },
   "outputs": [
    {
     "data": {
      "text/plain": [
       "'1000'"
      ]
     },
     "execution_count": 11,
     "metadata": {},
     "output_type": "execute_result"
    }
   ],
   "source": [
    "str(10**3)"
   ]
  },
  {
   "cell_type": "code",
   "execution_count": 12,
   "metadata": {
    "colab": {
     "base_uri": "https://localhost:8080/",
     "height": 34
    },
    "colab_type": "code",
    "id": "Yb9UYMnG4BZu",
    "outputId": "576d6bc4-a53a-4007-aea5-7643c4aa2b97"
   },
   "outputs": [
    {
     "data": {
      "text/plain": [
       "['NjMwMjAx', 'MTE3MzIw', 'MTg3Nzcw']"
      ]
     },
     "execution_count": 12,
     "metadata": {},
     "output_type": "execute_result"
    }
   ],
   "source": [
    "[getid(\"http://foo.com\"),\n",
    "getid(\"http://foo.com/f1\"),\n",
    " getid(\"http://fo.coom/1f\")]"
   ]
  },
  {
   "cell_type": "code",
   "execution_count": 13,
   "metadata": {
    "colab": {
     "base_uri": "https://localhost:8080/",
     "height": 68
    },
    "colab_type": "code",
    "id": "qOubBZb1_CF-",
    "outputId": "ba60bb1b-a32d-4c83-b08d-ebb4fbd0707d"
   },
   "outputs": [
    {
     "data": {
      "text/plain": [
       "{'NjMwMjAx': 'http://foo.com',\n",
       " 'MTE3MzIw': 'http://foo.com/f1',\n",
       " 'MTg3Nzcw': 'http://fo.coom/1f'}"
      ]
     },
     "execution_count": 13,
     "metadata": {},
     "output_type": "execute_result"
    }
   ],
   "source": [
    "urls"
   ]
  },
  {
   "cell_type": "code",
   "execution_count": null,
   "metadata": {
    "colab": {},
    "colab_type": "code",
    "id": "z5lcAB5O_J2j"
   },
   "outputs": [],
   "source": []
  }
 ],
 "metadata": {
  "colab": {
   "name": "Untitled3.ipynb",
   "provenance": []
  },
  "kernelspec": {
   "display_name": "Python 3",
   "language": "python",
   "name": "python3"
  },
  "language_info": {
   "codemirror_mode": {
    "name": "ipython",
    "version": 3
   },
   "file_extension": ".py",
   "mimetype": "text/x-python",
   "name": "python",
   "nbconvert_exporter": "python",
   "pygments_lexer": "ipython3",
   "version": "3.8.0"
  }
 },
 "nbformat": 4,
 "nbformat_minor": 4
}
