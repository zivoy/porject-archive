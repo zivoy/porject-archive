{
  "cells": [
    {
      "cell_type": "code",
      "source": [
        "from sympy import *\n",
        "x = symbols('x')"
      ],
      "outputs": [],
      "execution_count": 1,
      "metadata": {
        "collapsed": true,
        "jupyter": {
          "source_hidden": false,
          "outputs_hidden": false
        },
        "nteract": {
          "transient": {
            "deleting": false
          }
        },
        "execution": {
          "iopub.status.busy": "2020-07-19T13:41:32.566Z",
          "iopub.execute_input": "2020-07-19T13:41:32.576Z",
          "iopub.status.idle": "2020-07-19T13:41:33.358Z",
          "shell.execute_reply": "2020-07-19T13:41:33.378Z"
        }
      }
    },
    {
      "cell_type": "code",
      "source": [
        "top = 3*x**3 -x**2 + 2*x-4\n",
        "top"
      ],
      "outputs": [
        {
          "output_type": "execute_result",
          "execution_count": 8,
          "data": {
            "text/plain": "3*x**3 - x**2 + 2*x - 4",
            "text/latex": "$\\displaystyle 3 x^{3} - x^{2} + 2 x - 4$"
          },
          "metadata": {}
        }
      ],
      "execution_count": 8,
      "metadata": {
        "collapsed": true,
        "jupyter": {
          "source_hidden": false,
          "outputs_hidden": false
        },
        "nteract": {
          "transient": {
            "deleting": false
          }
        },
        "execution": {
          "iopub.status.busy": "2020-07-19T13:43:02.589Z",
          "iopub.execute_input": "2020-07-19T13:43:02.598Z",
          "iopub.status.idle": "2020-07-19T13:43:02.630Z",
          "shell.execute_reply": "2020-07-19T13:43:02.636Z"
        }
      }
    },
    {
      "cell_type": "code",
      "source": [
        "bottom = sqrt(x**2 - 3*x+2)\n",
        "bottom"
      ],
      "outputs": [
        {
          "output_type": "execute_result",
          "execution_count": 9,
          "data": {
            "text/plain": "sqrt(x**2 - 3*x + 2)",
            "text/latex": "$\\displaystyle \\sqrt{x^{2} - 3 x + 2}$"
          },
          "metadata": {}
        }
      ],
      "execution_count": 9,
      "metadata": {
        "collapsed": true,
        "jupyter": {
          "source_hidden": false,
          "outputs_hidden": false
        },
        "nteract": {
          "transient": {
            "deleting": false
          }
        },
        "execution": {
          "iopub.status.busy": "2020-07-19T13:43:05.146Z",
          "iopub.execute_input": "2020-07-19T13:43:05.154Z",
          "iopub.status.idle": "2020-07-19T13:43:05.187Z",
          "shell.execute_reply": "2020-07-19T13:43:05.196Z"
        }
      }
    },
    {
      "cell_type": "code",
      "source": [
        "top/bottom"
      ],
      "outputs": [
        {
          "output_type": "execute_result",
          "execution_count": 10,
          "data": {
            "text/plain": "(3*x**3 - x**2 + 2*x - 4)/sqrt(x**2 - 3*x + 2)",
            "text/latex": "$\\displaystyle \\frac{3 x^{3} - x^{2} + 2 x - 4}{\\sqrt{x^{2} - 3 x + 2}}$"
          },
          "metadata": {}
        }
      ],
      "execution_count": 10,
      "metadata": {
        "collapsed": true,
        "jupyter": {
          "source_hidden": false,
          "outputs_hidden": false
        },
        "nteract": {
          "transient": {
            "deleting": false
          }
        },
        "execution": {
          "iopub.status.busy": "2020-07-19T13:43:15.371Z",
          "iopub.execute_input": "2020-07-19T13:43:15.384Z",
          "iopub.status.idle": "2020-07-19T13:43:15.422Z",
          "shell.execute_reply": "2020-07-19T13:43:15.433Z"
        }
      }
    },
    {
      "cell_type": "code",
      "source": [
        "Integral(top/bottom,(x,0,1))"
      ],
      "outputs": [
        {
          "output_type": "execute_result",
          "execution_count": 22,
          "data": {
            "text/plain": "Integral((3*x**3 - x**2 + 2*x - 4)/sqrt(x**2 - 3*x + 2), (x, 0, 1))",
            "text/latex": "$\\displaystyle \\int\\limits_{0}^{1} \\frac{3 x^{3} - x^{2} + 2 x - 4}{\\sqrt{x^{2} - 3 x + 2}}\\, dx$"
          },
          "metadata": {}
        }
      ],
      "execution_count": 22,
      "metadata": {
        "collapsed": true,
        "jupyter": {
          "source_hidden": false,
          "outputs_hidden": false
        },
        "nteract": {
          "transient": {
            "deleting": false
          }
        },
        "execution": {
          "iopub.status.busy": "2020-07-19T13:45:22.352Z",
          "iopub.execute_input": "2020-07-19T13:45:22.362Z",
          "iopub.status.idle": "2020-07-19T13:45:22.414Z",
          "shell.execute_reply": "2020-07-19T13:45:22.425Z"
        }
      }
    },
    {
      "cell_type": "code",
      "source": [
        "Integral(top/bottom,(x,0,1)).evalf()"
      ],
      "outputs": [
        {
          "output_type": "execute_result",
          "execution_count": 23,
          "data": {
            "text/plain": "-2.98126694400554",
            "text/latex": "$\\displaystyle -2.98126694400554$"
          },
          "metadata": {}
        }
      ],
      "execution_count": 23,
      "metadata": {
        "collapsed": true,
        "jupyter": {
          "source_hidden": false,
          "outputs_hidden": false
        },
        "nteract": {
          "transient": {
            "deleting": false
          }
        },
        "execution": {
          "iopub.status.busy": "2020-07-19T13:45:30.202Z",
          "iopub.execute_input": "2020-07-19T13:45:30.213Z",
          "iopub.status.idle": "2020-07-19T13:45:30.248Z",
          "shell.execute_reply": "2020-07-19T13:45:30.273Z"
        }
      }
    },
    {
      "cell_type": "code",
      "source": [
        "Integral(top,(x,0,1))/bottom"
      ],
      "outputs": [
        {
          "output_type": "execute_result",
          "execution_count": 25,
          "data": {
            "text/plain": "Integral(3*x**3 - x**2 + 2*x - 4, (x, 0, 1))/sqrt(x**2 - 3*x + 2)",
            "text/latex": "$\\displaystyle \\frac{\\int\\limits_{0}^{1} \\left(3 x^{3} - x^{2} + 2 x - 4\\right)\\, dx}{\\sqrt{x^{2} - 3 x + 2}}$"
          },
          "metadata": {}
        }
      ],
      "execution_count": 25,
      "metadata": {
        "collapsed": true,
        "jupyter": {
          "source_hidden": false,
          "outputs_hidden": false
        },
        "nteract": {
          "transient": {
            "deleting": false
          }
        },
        "execution": {
          "iopub.status.busy": "2020-07-19T13:46:10.027Z",
          "iopub.execute_input": "2020-07-19T13:46:10.038Z",
          "iopub.status.idle": "2020-07-19T13:46:10.096Z",
          "shell.execute_reply": "2020-07-19T13:46:10.111Z"
        }
      }
    },
    {
      "cell_type": "code",
      "source": [
        "(Integral(top,(x,0,1))/bottom).evalf()"
      ],
      "outputs": [
        {
          "output_type": "execute_result",
          "execution_count": 28,
          "data": {
            "text/plain": "0.577350269189626*(0.333333333333333*x**2 - x + 0.666666666666667)**(-0.5)*Integral(3*x**3 - x**2 + 2*x - 4, (x, 0, 1))",
            "text/latex": "$\\displaystyle \\frac{0.577350269189626 \\int\\limits_{0}^{1} \\left(3 x^{3} - x^{2} + 2 x - 4\\right)\\, dx}{\\left(0.333333333333333 x^{2} - x + 0.666666666666667\\right)^{0.5}}$"
          },
          "metadata": {}
        }
      ],
      "execution_count": 28,
      "metadata": {
        "collapsed": true,
        "jupyter": {
          "source_hidden": false,
          "outputs_hidden": false
        },
        "nteract": {
          "transient": {
            "deleting": false
          }
        },
        "execution": {
          "iopub.status.busy": "2020-07-19T13:46:38.830Z",
          "iopub.execute_input": "2020-07-19T13:46:38.844Z",
          "iopub.status.idle": "2020-07-19T13:46:38.900Z",
          "shell.execute_reply": "2020-07-19T13:46:38.919Z"
        }
      }
    },
    {
      "cell_type": "code",
      "source": [
        "Integral(top,(x,0,1)).evalf()/bottom.eva    lf()"
      ],
      "outputs": [
        {
          "output_type": "execute_result",
          "execution_count": 30,
          "data": {
            "text/plain": "-1.49148819540653*(0.333333333333333*x**2 - x + 0.666666666666667)**(-0.5)",
            "text/latex": "$\\displaystyle - \\frac{1.49148819540653}{\\left(0.333333333333333 x^{2} - x + 0.666666666666667\\right)^{0.5}}$"
          },
          "metadata": {}
        }
      ],
      "execution_count": 30,
      "metadata": {
        "collapsed": true,
        "jupyter": {
          "source_hidden": false,
          "outputs_hidden": false
        },
        "nteract": {
          "transient": {
            "deleting": false
          }
        },
        "execution": {
          "iopub.status.busy": "2020-07-19T14:09:33.103Z",
          "iopub.execute_input": "2020-07-19T14:09:33.131Z",
          "iopub.status.idle": "2020-07-19T14:09:33.256Z",
          "shell.execute_reply": "2020-07-19T14:09:33.285Z"
        }
      }
    },
    {
      "cell_type": "code",
      "source": [],
      "outputs": [],
      "execution_count": null,
      "metadata": {
        "collapsed": true,
        "jupyter": {
          "source_hidden": false,
          "outputs_hidden": false
        },
        "nteract": {
          "transient": {
            "deleting": false
          }
        }
      }
    }
  ],
  "metadata": {
    "kernel_info": {
      "name": "python3"
    },
    "language_info": {
      "name": "python",
      "version": "3.8.0",
      "mimetype": "text/x-python",
      "codemirror_mode": {
        "name": "ipython",
        "version": 3
      },
      "pygments_lexer": "ipython3",
      "nbconvert_exporter": "python",
      "file_extension": ".py"
    },
    "kernelspec": {
      "argv": [
        "python",
        "-m",
        "ipykernel_launcher",
        "-f",
        "{connection_file}"
      ],
      "display_name": "Python 3",
      "language": "python",
      "name": "python3"
    },
    "nteract": {
      "version": "0.24.0"
    }
  },
  "nbformat": 4,
  "nbformat_minor": 0
}