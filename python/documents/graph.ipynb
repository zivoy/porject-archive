{
 "cells": [
  {
   "cell_type": "code",
   "execution_count": 5,
   "metadata": {
    "inputHidden": false,
    "outputHidden": false
   },
   "outputs": [],
   "source": [
    "link = \"https://www150.statcan.gc.ca/t1/tbl1/#?pid=11100125&file=1110012501-eng.csv\"\n",
    "url = \"https://www150.statcan.gc.ca/t1/tbl1/en/dtl!downloadCubeMetaData-nonTraduit.action?pid=1110012501&csvLocale=en\""
   ]
  },
  {
   "cell_type": "code",
   "execution_count": 6,
   "metadata": {
    "inputHidden": false,
    "outputHidden": false
   },
   "outputs": [],
   "source": [
    "import pandas as pd\n",
    "from matplotlib import pyplot as plt\n",
    "import requests\n",
    "import io"
   ]
  },
  {
   "cell_type": "code",
   "execution_count": 7,
   "metadata": {
    "inputHidden": false,
    "outputHidden": false
   },
   "outputs": [],
   "source": [
    "s=requests.get(link).content"
   ]
  },
  {
   "cell_type": "code",
   "execution_count": 32,
   "metadata": {
    "inputHidden": false,
    "outputHidden": false
   },
   "outputs": [],
   "source": [
    "with open(r\"C:\\Users\\zivno\\Downloads\\1110012501-eng.csv\", \"r\", encoding=\"utf-8\") as d:\n",
    "    data=pd.read_csv(d)"
   ]
  },
  {
   "cell_type": "code",
   "execution_count": 46,
   "metadata": {
    "inputHidden": false,
    "outputHidden": false,
    "scrolled": false
   },
   "outputs": [
    {
     "data": {
      "text/html": [
       "<div>\n",
       "<style scoped>\n",
       "    .dataframe tbody tr th:only-of-type {\n",
       "        vertical-align: middle;\n",
       "    }\n",
       "\n",
       "    .dataframe tbody tr th {\n",
       "        vertical-align: top;\n",
       "    }\n",
       "\n",
       "    .dataframe thead th {\n",
       "        text-align: right;\n",
       "    }\n",
       "</style>\n",
       "<table border=\"1\" class=\"dataframe\">\n",
       "  <thead>\n",
       "    <tr style=\"text-align: right;\">\n",
       "      <th></th>\n",
       "      <th>Food expenditures, summary-level categories</th>\n",
       "      <th>2013</th>\n",
       "      <th>2014</th>\n",
       "      <th>2015</th>\n",
       "      <th>2016</th>\n",
       "      <th>2017</th>\n",
       "    </tr>\n",
       "  </thead>\n",
       "  <tbody>\n",
       "    <tr>\n",
       "      <th>0</th>\n",
       "      <td>Food expenditures 6</td>\n",
       "      <td>7,934</td>\n",
       "      <td>8,109</td>\n",
       "      <td>8,629</td>\n",
       "      <td>8,784</td>\n",
       "      <td>8,527</td>\n",
       "    </tr>\n",
       "    <tr>\n",
       "      <th>1</th>\n",
       "      <td>Food purchased from stores</td>\n",
       "      <td>5,718</td>\n",
       "      <td>5,880</td>\n",
       "      <td>6,126</td>\n",
       "      <td>6,176</td>\n",
       "      <td>5,934</td>\n",
       "    </tr>\n",
       "    <tr>\n",
       "      <th>2</th>\n",
       "      <td>Bakery products</td>\n",
       "      <td>567</td>\n",
       "      <td>562</td>\n",
       "      <td>574</td>\n",
       "      <td>578</td>\n",
       "      <td>563</td>\n",
       "    </tr>\n",
       "    <tr>\n",
       "      <th>3</th>\n",
       "      <td>Cereal grains and cereal products</td>\n",
       "      <td>320</td>\n",
       "      <td>327</td>\n",
       "      <td>341</td>\n",
       "      <td>347</td>\n",
       "      <td>321</td>\n",
       "    </tr>\n",
       "    <tr>\n",
       "      <th>4</th>\n",
       "      <td>Fruit, fruit preparations and nuts</td>\n",
       "      <td>698</td>\n",
       "      <td>719</td>\n",
       "      <td>755</td>\n",
       "      <td>781</td>\n",
       "      <td>731</td>\n",
       "    </tr>\n",
       "    <tr>\n",
       "      <th>5</th>\n",
       "      <td>Vegetables and vegetable preparations</td>\n",
       "      <td>652</td>\n",
       "      <td>675</td>\n",
       "      <td>710</td>\n",
       "      <td>718</td>\n",
       "      <td>702</td>\n",
       "    </tr>\n",
       "    <tr>\n",
       "      <th>6</th>\n",
       "      <td>Dairy products and eggs</td>\n",
       "      <td>876</td>\n",
       "      <td>864</td>\n",
       "      <td>903</td>\n",
       "      <td>888</td>\n",
       "      <td>839</td>\n",
       "    </tr>\n",
       "    <tr>\n",
       "      <th>7</th>\n",
       "      <td>Meat</td>\n",
       "      <td>1,044</td>\n",
       "      <td>1,182</td>\n",
       "      <td>1,194</td>\n",
       "      <td>1,163</td>\n",
       "      <td>1,109</td>\n",
       "    </tr>\n",
       "    <tr>\n",
       "      <th>8</th>\n",
       "      <td>Fish and seafood</td>\n",
       "      <td>200</td>\n",
       "      <td>211</td>\n",
       "      <td>213</td>\n",
       "      <td>203</td>\n",
       "      <td>219</td>\n",
       "    </tr>\n",
       "    <tr>\n",
       "      <th>9</th>\n",
       "      <td>Non-alcoholic beverages and other food products</td>\n",
       "      <td>1,362</td>\n",
       "      <td>1,342</td>\n",
       "      <td>1,437</td>\n",
       "      <td>1,499</td>\n",
       "      <td>1,451</td>\n",
       "    </tr>\n",
       "    <tr>\n",
       "      <th>10</th>\n",
       "      <td>Food purchased from restaurants</td>\n",
       "      <td>2,216</td>\n",
       "      <td>2,229</td>\n",
       "      <td>2,502</td>\n",
       "      <td>2,608</td>\n",
       "      <td>2,593</td>\n",
       "    </tr>\n",
       "    <tr>\n",
       "      <th>11</th>\n",
       "      <td>Restaurant meals</td>\n",
       "      <td>1,963</td>\n",
       "      <td>1,959</td>\n",
       "      <td>2,222</td>\n",
       "      <td>2,303</td>\n",
       "      <td>2,272</td>\n",
       "    </tr>\n",
       "    <tr>\n",
       "      <th>12</th>\n",
       "      <td>Restaurant snacks and beverages</td>\n",
       "      <td>253</td>\n",
       "      <td>270</td>\n",
       "      <td>281</td>\n",
       "      <td>305</td>\n",
       "      <td>321</td>\n",
       "    </tr>\n",
       "  </tbody>\n",
       "</table>\n",
       "</div>"
      ],
      "text/plain": [
       "        Food expenditures, summary-level categories   2013   2014   2015  \\\n",
       "0                               Food expenditures 6  7,934  8,109  8,629   \n",
       "1                        Food purchased from stores  5,718  5,880  6,126   \n",
       "2                                   Bakery products    567    562    574   \n",
       "3                 Cereal grains and cereal products    320    327    341   \n",
       "4                Fruit, fruit preparations and nuts    698    719    755   \n",
       "5             Vegetables and vegetable preparations    652    675    710   \n",
       "6                           Dairy products and eggs    876    864    903   \n",
       "7                                              Meat  1,044  1,182  1,194   \n",
       "8                                  Fish and seafood    200    211    213   \n",
       "9   Non-alcoholic beverages and other food products  1,362  1,342  1,437   \n",
       "10                  Food purchased from restaurants  2,216  2,229  2,502   \n",
       "11                                 Restaurant meals  1,963  1,959  2,222   \n",
       "12                  Restaurant snacks and beverages    253    270    281   \n",
       "\n",
       "     2016   2017  \n",
       "0   8,784  8,527  \n",
       "1   6,176  5,934  \n",
       "2     578    563  \n",
       "3     347    321  \n",
       "4     781    731  \n",
       "5     718    702  \n",
       "6     888    839  \n",
       "7   1,163  1,109  \n",
       "8     203    219  \n",
       "9   1,499  1,451  \n",
       "10  2,608  2,593  \n",
       "11  2,303  2,272  \n",
       "12    305    321  "
      ]
     },
     "execution_count": 46,
     "metadata": {},
     "output_type": "execute_result"
    }
   ],
   "source": [
    "data"
   ]
  },
  {
   "cell_type": "code",
   "execution_count": 69,
   "metadata": {
    "inputHidden": false,
    "outputHidden": false
   },
   "outputs": [],
   "source": [
    "snek=data.loc[[3,4,5,12],[\"2013\",\"2014\",\"2015\",\"2016\",\"2017\"]]"
   ]
  },
  {
   "cell_type": "code",
   "execution_count": 70,
   "metadata": {
    "inputHidden": false,
    "outputHidden": false
   },
   "outputs": [
    {
     "data": {
      "text/html": [
       "<div>\n",
       "<style scoped>\n",
       "    .dataframe tbody tr th:only-of-type {\n",
       "        vertical-align: middle;\n",
       "    }\n",
       "\n",
       "    .dataframe tbody tr th {\n",
       "        vertical-align: top;\n",
       "    }\n",
       "\n",
       "    .dataframe thead th {\n",
       "        text-align: right;\n",
       "    }\n",
       "</style>\n",
       "<table border=\"1\" class=\"dataframe\">\n",
       "  <thead>\n",
       "    <tr style=\"text-align: right;\">\n",
       "      <th></th>\n",
       "      <th>3</th>\n",
       "      <th>4</th>\n",
       "      <th>5</th>\n",
       "      <th>12</th>\n",
       "    </tr>\n",
       "  </thead>\n",
       "  <tbody>\n",
       "    <tr>\n",
       "      <th>2013</th>\n",
       "      <td>320</td>\n",
       "      <td>698</td>\n",
       "      <td>652</td>\n",
       "      <td>253</td>\n",
       "    </tr>\n",
       "    <tr>\n",
       "      <th>2014</th>\n",
       "      <td>327</td>\n",
       "      <td>719</td>\n",
       "      <td>675</td>\n",
       "      <td>270</td>\n",
       "    </tr>\n",
       "    <tr>\n",
       "      <th>2015</th>\n",
       "      <td>341</td>\n",
       "      <td>755</td>\n",
       "      <td>710</td>\n",
       "      <td>281</td>\n",
       "    </tr>\n",
       "    <tr>\n",
       "      <th>2016</th>\n",
       "      <td>347</td>\n",
       "      <td>781</td>\n",
       "      <td>718</td>\n",
       "      <td>305</td>\n",
       "    </tr>\n",
       "    <tr>\n",
       "      <th>2017</th>\n",
       "      <td>321</td>\n",
       "      <td>731</td>\n",
       "      <td>702</td>\n",
       "      <td>321</td>\n",
       "    </tr>\n",
       "  </tbody>\n",
       "</table>\n",
       "</div>"
      ],
      "text/plain": [
       "       3    4    5    12\n",
       "2013  320  698  652  253\n",
       "2014  327  719  675  270\n",
       "2015  341  755  710  281\n",
       "2016  347  781  718  305\n",
       "2017  321  731  702  321"
      ]
     },
     "execution_count": 70,
     "metadata": {},
     "output_type": "execute_result"
    }
   ],
   "source": [
    "det =snek.T.astype(int)\n",
    "det"
   ]
  },
  {
   "cell_type": "code",
   "execution_count": 71,
   "metadata": {
    "inputHidden": false,
    "outputHidden": false
   },
   "outputs": [
    {
     "data": {
      "text/plain": [
       "['Cereal grains and cereal products',\n",
       " 'Fruit, fruit preparations and nuts',\n",
       " 'Vegetables and vegetable preparations',\n",
       " 'Restaurant snacks and beverages']"
      ]
     },
     "execution_count": 71,
     "metadata": {},
     "output_type": "execute_result"
    }
   ],
   "source": [
    "t=data[data.columns[0]][det.columns]\n",
    "[i for i in t]"
   ]
  },
  {
   "cell_type": "code",
   "execution_count": 72,
   "metadata": {
    "inputHidden": false,
    "outputHidden": false
   },
   "outputs": [],
   "source": [
    "t=data[data.columns[0]][det.columns]\n",
    "#id=[i[0] for i in t.index]\n",
    "det.columns = [list(t)]"
   ]
  },
  {
   "cell_type": "code",
   "execution_count": 77,
   "metadata": {
    "inputHidden": false,
    "outputHidden": false
   },
   "outputs": [
    {
     "data": {
      "image/png": "[encoded data removed]",
      "text/plain": [
       "<Figure size 432x288 with 1 Axes>"
      ]
     },
     "metadata": {
      "needs_background": "light"
     },
     "output_type": "display_data"
    }
   ],
   "source": [
    "r=det.plot()\n",
    "r.set_ylabel(\"CAD $\")\n",
    "r.set_xlabel(\"Year\")\n",
    "r.set_title(\"Average expenditure per household\")\n",
    "r.legend(list(t))\n",
    "plt.savefig('test.png', format='png', dpi=200) "
   ]
  },
  {
   "cell_type": "code",
   "execution_count": 52,
   "metadata": {
    "inputHidden": false,
    "outputHidden": false
   },
   "outputs": [
    {
     "data": {
      "text/html": [
       "<div>\n",
       "<style scoped>\n",
       "    .dataframe tbody tr th:only-of-type {\n",
       "        vertical-align: middle;\n",
       "    }\n",
       "\n",
       "    .dataframe tbody tr th {\n",
       "        vertical-align: top;\n",
       "    }\n",
       "\n",
       "    .dataframe thead tr th {\n",
       "        text-align: left;\n",
       "    }\n",
       "</style>\n",
       "<table border=\"1\" class=\"dataframe\">\n",
       "  <thead>\n",
       "    <tr>\n",
       "      <th></th>\n",
       "      <th>Fruit, fruit preparations and nuts</th>\n",
       "      <th>Vegetables and vegetable preparations</th>\n",
       "      <th>Restaurant snacks and beverages</th>\n",
       "    </tr>\n",
       "  </thead>\n",
       "  <tbody>\n",
       "    <tr>\n",
       "      <th>2013</th>\n",
       "      <td>698</td>\n",
       "      <td>652</td>\n",
       "      <td>253</td>\n",
       "    </tr>\n",
       "    <tr>\n",
       "      <th>2014</th>\n",
       "      <td>719</td>\n",
       "      <td>675</td>\n",
       "      <td>270</td>\n",
       "    </tr>\n",
       "    <tr>\n",
       "      <th>2015</th>\n",
       "      <td>755</td>\n",
       "      <td>710</td>\n",
       "      <td>281</td>\n",
       "    </tr>\n",
       "    <tr>\n",
       "      <th>2016</th>\n",
       "      <td>781</td>\n",
       "      <td>718</td>\n",
       "      <td>305</td>\n",
       "    </tr>\n",
       "    <tr>\n",
       "      <th>2017</th>\n",
       "      <td>731</td>\n",
       "      <td>702</td>\n",
       "      <td>321</td>\n",
       "    </tr>\n",
       "  </tbody>\n",
       "</table>\n",
       "</div>"
      ],
      "text/plain": [
       "     Fruit, fruit preparations and nuts Vegetables and vegetable preparations  \\\n",
       "2013                                698                                   652   \n",
       "2014                                719                                   675   \n",
       "2015                                755                                   710   \n",
       "2016                                781                                   718   \n",
       "2017                                731                                   702   \n",
       "\n",
       "     Restaurant snacks and beverages  \n",
       "2013                             253  \n",
       "2014                             270  \n",
       "2015                             281  \n",
       "2016                             305  \n",
       "2017                             321  "
      ]
     },
     "execution_count": 52,
     "metadata": {},
     "output_type": "execute_result"
    }
   ],
   "source": [
    "det"
   ]
  },
  {
   "cell_type": "code",
   "execution_count": null,
   "metadata": {
    "inputHidden": false,
    "outputHidden": false
   },
   "outputs": [],
   "source": []
  }
 ],
 "metadata": {
  "kernel_info": {
   "name": "python3"
  },
  "kernelspec": {
   "display_name": "Python 3",
   "language": "python",
   "name": "python3"
  },
  "language_info": {
   "codemirror_mode": {
    "name": "ipython",
    "version": 3
   },
   "file_extension": ".py",
   "mimetype": "text/x-python",
   "name": "python",
   "nbconvert_exporter": "python",
   "pygments_lexer": "ipython3",
   "version": "3.8.0"
  },
  "nteract": {
   "version": "0.15.0"
  }
 },
 "nbformat": 4,
 "nbformat_minor": 1
}
